{
 "cells": [
  {
   "cell_type": "code",
   "execution_count": 1,
   "metadata": {},
   "outputs": [
    {
     "name": "stderr",
     "output_type": "stream",
     "text": [
      "DEBUG:root:info\n"
     ]
    }
   ],
   "source": [
    "import numpy as np\n",
    "import pandas as pd\n",
    "from bs4 import BeautifulSoup\n",
    "import urllib\n",
    "from operator import itemgetter\n",
    "\n",
    "import logging\n",
    "logger = logging.getLogger()\n",
    "logger.setLevel(logging.DEBUG)\n",
    "logging.debug(\"info\")"
   ]
  },
  {
   "cell_type": "code",
   "execution_count": 94,
   "metadata": {},
   "outputs": [],
   "source": [
    "def get_beautiful_soup_of_url(url):\n",
    "    opener = urllib.request.build_opener()\n",
    "    opener.addheaders = [('User-Agent', 'Mozilla/5.0')]\n",
    "    try:\n",
    "        loc_doc = opener.open(url)\n",
    "        soup = BeautifulSoup(loc_doc, 'html.parser')\n",
    "        return soup\n",
    "    except:\n",
    "        return ''\n",
    "\n",
    "def get_area_link(main_area):\n",
    "    return str(main_area).split(\"\\n\")[4].split(\" \")[3].replace('href=\"','').replace('\"','')\n",
    "\n",
    "def get_area_name(main_area):\n",
    "    return get_area_link(main_area).split(\"/\")[-1].replace('\"','')\n",
    "\n",
    "def get_area_dict(main_area):\n",
    "    return {\"name\":get_area_name(main_area), \"link\":get_area_link(main_area)}"
   ]
  },
  {
   "cell_type": "code",
   "execution_count": 3,
   "metadata": {},
   "outputs": [],
   "source": [
    "mp_url = \"https://www.mountainproject.com\"\n",
    "url_soup = get_beautiful_soup_of_url(mp_url)\n",
    "route_guide = url_soup.find(\"div\", {\"id\": \"route-guide\"})\n",
    "\n",
    "area_data = [get_area_dict(main_area) for main_area in route_guide.find_all(\"strong\")]\n",
    "area_data = {v['name']:v for v in area_data}.values()\n",
    "area_data = sorted(area_data, key=itemgetter('name'))"
   ]
  },
  {
   "cell_type": "code",
   "execution_count": 4,
   "metadata": {},
   "outputs": [],
   "source": [
    "def get_sub_area_link(left_nav_data):\n",
    "    return str(left_nav_data).split(\"\\n\")[1].split('href=\"')[1].split('\"')[0]\n",
    "\n",
    "def get_sub_area_name(left_nav_data):\n",
    "    return get_sub_area_link(left_nav_data).split(\"/\")[-1]\n",
    "\n",
    "def get_sub_area_dict(left_nav_data):\n",
    "    return {\"name\":get_sub_area_name(left_nav_data), \"link\":get_sub_area_link(left_nav_data)}\n",
    "\n",
    "def get_sub_area_data(sub_area_data):\n",
    "    if sub_area_data['link']:\n",
    "        sub_area_soup = get_beautiful_soup_of_url(sub_area_data[\"link\"])\n",
    "        sub_area_data = [get_sub_area_dict(left_nav_data) for left_nav_data in sub_area_soup.find_all(\"div\", {\"class\": \"lef-nav-row\"})]\n",
    "        sub_area_data = {v['name']:v for v in sub_area_data}.values()\n",
    "        sub_area_data = sorted(sub_area_data, key=itemgetter('name'))\n",
    "        return sub_area_data\n",
    "    else:\n",
    "        return []"
   ]
  },
  {
   "cell_type": "code",
   "execution_count": 5,
   "metadata": {},
   "outputs": [],
   "source": [
    "def return_sub_area_links(area_data):\n",
    "    temp_list = get_sub_area_data(area_data)\n",
    "    all_data = []\n",
    "    for area in temp_list:\n",
    "        all_data+=return_sub_area_links(area)\n",
    "    return all_data+temp_list"
   ]
  },
  {
   "cell_type": "code",
   "execution_count": 87,
   "metadata": {},
   "outputs": [],
   "source": [
    "def get_hierarchy_from_link(areas):\n",
    "    climbing_area_html = get_beautiful_soup_of_url(areas)\n",
    "    try:\n",
    "        area_hierarchy_html = climbing_area_html.find(\"div\", {\"class\": \"mb-half small text-warm\"})\n",
    "        area_hierarchy = [str(area)[2:].split('\"')[0] for area in str(area_hierarchy_html).split('href')[2:]]\n",
    "        return area_hierarchy\n",
    "    except:\n",
    "        return []\n",
    "    \n",
    "def get_routes_from_link(areas):\n",
    "    climbing_area_html = get_beautiful_soup_of_url(areas)\n",
    "    try:\n",
    "        area_hierarchy_html = climbing_area_html.find(\"div\", {\"class\": \"max-height max-height-md-0 max-height-xs-150\"})\n",
    "        area_hierarchy = [str(area)[2:].split('\"')[0] for area in str(area_hierarchy_html) \\\n",
    "                          .split('href')[1:len(str(area_hierarchy_html) \\\n",
    "                          .split('href'))-1]]\n",
    "        return area_hierarchy\n",
    "    except:\n",
    "        return []"
   ]
  },
  {
   "cell_type": "code",
   "execution_count": null,
   "metadata": {},
   "outputs": [],
   "source": [
    "for areas in area_data:\n",
    "    sub_area_master=return_sub_area_links(areas)\n",
    "    all_area_data_df = pd.DataFrame(sub_area_master)\n",
    "    all_area_data_df['hierarchy'] = all_area_data_df['link'].map(get_hierarchy_from_link)\n",
    "    all_area_data_df['route_links'] = all_area_data_df['link'].map(get_routes_from_link)\n",
    "    all_area_data_df.to_csv('data/'+areas['name']+'_climbing_areas.csv')"
   ]
  },
  {
   "cell_type": "code",
   "execution_count": 95,
   "metadata": {},
   "outputs": [],
   "source": [
    "for areas in area_data:\n",
    "    all_area_data_df = pd.read_csv(areas['name']+'_climbing_areas.csv')\n",
    "    all_area_data_df['hierarchy'] = all_area_data_df['link'].map(get_hierarchy_from_link)\n",
    "    all_area_data_df['route_links'] = all_area_data_df['link'].map(get_routes_from_link)\n",
    "    all_area_data_df.to_csv('data/'+areas['name']+'_climbing_areas.csv')"
   ]
  },
  {
   "cell_type": "code",
   "execution_count": 109,
   "metadata": {},
   "outputs": [],
   "source": [
    "import ast\n",
    "texas_climbing = pd.read_csv('data/texas_climbing_areas.csv', index_col=None)"
   ]
  },
  {
   "cell_type": "code",
   "execution_count": 110,
   "metadata": {},
   "outputs": [],
   "source": [
    "x = ast.literal_eval(texas_climbing.iloc[0][5])\n",
    "set_of_routes = [n.strip() for n in x]"
   ]
  },
  {
   "cell_type": "code",
   "execution_count": 111,
   "metadata": {},
   "outputs": [
    {
     "data": {
      "text/plain": [
       "['https://www.mountainproject.com/route/112806790/aretebulge',\n",
       " 'https://www.mountainproject.com/route/112134969/flash-crack',\n",
       " 'https://www.mountainproject.com/route/112806412/stand-off',\n",
       " 'https://www.mountainproject.com/route/106085170/thin-crack',\n",
       " 'https://www.mountainproject.com/route/106085185/touch-of-class']"
      ]
     },
     "execution_count": 111,
     "metadata": {},
     "output_type": "execute_result"
    }
   ],
   "source": [
    "set_of_routes"
   ]
  },
  {
   "cell_type": "code",
   "execution_count": null,
   "metadata": {},
   "outputs": [],
   "source": []
  }
 ],
 "metadata": {
  "anaconda-cloud": {},
  "kernelspec": {
   "display_name": "Python 3",
   "language": "python",
   "name": "python3"
  },
  "language_info": {
   "codemirror_mode": {
    "name": "ipython",
    "version": 3
   },
   "file_extension": ".py",
   "mimetype": "text/x-python",
   "name": "python",
   "nbconvert_exporter": "python",
   "pygments_lexer": "ipython3",
   "version": "3.6.5"
  }
 },
 "nbformat": 4,
 "nbformat_minor": 1
}
