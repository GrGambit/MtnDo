{
 "cells": [
  {
   "cell_type": "code",
   "execution_count": 1,
   "metadata": {
    "collapsed": false
   },
   "outputs": [
    {
     "name": "stderr",
     "output_type": "stream",
     "text": [
      "/Users/George/anaconda/lib/python2.7/site-packages/sklearn/cross_validation.py:41: DeprecationWarning: This module was deprecated in version 0.18 in favor of the model_selection module into which all the refactored classes and functions are moved. Also note that the interface of the new CV iterators are different from that of this module. This module will be removed in 0.20.\n",
      "  \"This module will be removed in 0.20.\", DeprecationWarning)\n",
      "/Users/George/anaconda/lib/python2.7/site-packages/matplotlib/font_manager.py:273: UserWarning: Matplotlib is building the font cache using fc-list. This may take a moment.\n",
      "  warnings.warn('Matplotlib is building the font cache using fc-list. This may take a moment.')\n"
     ]
    }
   ],
   "source": [
    "import numpy as np\n",
    "import pandas as pd\n",
    "from bs4 import BeautifulSoup\n",
    "import urllib2\n",
    "from operator import itemgetter\n",
    "\n",
    "from sklearn.linear_model import LinearRegression\n",
    "from xgboost import XGBClassifier\n",
    "from sklearn.model_selection import train_test_split\n",
    "from sklearn.metrics import accuracy_score\n",
    "from sklearn.linear_model import LogisticRegression\n",
    "from sklearn.naive_bayes import MultinomialNB\n",
    "from sklearn.model_selection import cross_val_score\n",
    "import seaborn as sns\n",
    "from sklearn.metrics import confusion_matrix\n",
    "\n",
    "from nltk.corpus import stopwords\n",
    "from sklearn.feature_extraction.text import CountVectorizer, TfidfVectorizer\n",
    "from string import punctuation\n",
    "\n",
    "from gensim.models.word2vec import Word2Vec\n",
    "from multiprocessing import cpu_count\n",
    "\n",
    "import matplotlib.pyplot as plt\n",
    "%matplotlib inline  \n",
    "\n",
    "stop = stopwords.words('english')"
   ]
  },
  {
   "cell_type": "code",
   "execution_count": 2,
   "metadata": {
    "collapsed": false
   },
   "outputs": [],
   "source": [
    "austin_data = pd.DataFrame.from_csv('austin_route_text.csv')\n",
    "frankenjura_data = pd.DataFrame.from_csv('frankenjura_route_text.csv')"
   ]
  },
  {
   "cell_type": "code",
   "execution_count": 3,
   "metadata": {
    "collapsed": true
   },
   "outputs": [],
   "source": [
    "def remove_end_line(length):\n",
    "    return length.replace('\\n','')\n",
    "\n",
    "def route_location_depth(location):\n",
    "    return len(location.split('>'))\n",
    "\n",
    "def route_name_length(route_name):\n",
    "    return len(str(route_name))\n",
    "\n",
    "def return_clean_grade(rating):\n",
    "    return rating[0:6]\n",
    "\n",
    "def return_large_avg_stars(stars):\n",
    "    num_list = [num for num in stars]\n",
    "    if num_list[0] in ['-','h','\"',' ']:\n",
    "        return 0\n",
    "    else:\n",
    "        return float(num_list[0]+num_list[2])\n",
    "    \n",
    "def return_char_count(text):\n",
    "    text = str(text)\n",
    "    return len(text.replace(\" \",\"\").replace(\".\",\"\"))\n",
    "\n",
    "def return_word_count(text):\n",
    "    text = str(text)\n",
    "    return len(text.split(\" \"))\n",
    "\n",
    "def remove_punctuation(text):\n",
    "    text = str(text)\n",
    "    return ''.join(c for c in text if c not in punctuation)\n",
    "\n",
    "def return_clean_text(text):\n",
    "    text = str(text)\n",
    "    return \" \".join(remove_punctuation(x.lower()) for x in text.split() if x not in stop)\n"
   ]
  },
  {
   "cell_type": "code",
   "execution_count": 4,
   "metadata": {
    "collapsed": false
   },
   "outputs": [
    {
     "name": "stderr",
     "output_type": "stream",
     "text": [
      "/Users/George/anaconda/lib/python2.7/site-packages/ipykernel/__main__.py:34: UnicodeWarning: Unicode equal comparison failed to convert both arguments to Unicode - interpreting them as being unequal\n"
     ]
    }
   ],
   "source": [
    "austin_data['page_text_clean'] = austin_data['page_text'].apply(return_clean_text)\n",
    "austin_data['comment_text_clean'] = austin_data['comment_text'].apply(return_clean_text)\n",
    "\n",
    "frankenjura_data['page_text_clean'] = frankenjura_data['page_text'].apply(return_clean_text)\n",
    "frankenjura_data['comment_text_clean'] = frankenjura_data['comment_text'].apply(return_clean_text)"
   ]
  },
  {
   "cell_type": "code",
   "execution_count": 5,
   "metadata": {
    "collapsed": true
   },
   "outputs": [],
   "source": [
    "austin_data = austin_data.drop(['route_soup','Length','comment_text','page_text'], axis=1)\n",
    "frankenjura_data = frankenjura_data.drop(['route_soup','Length','comment_text','page_text'], axis=1)"
   ]
  },
  {
   "cell_type": "code",
   "execution_count": 263,
   "metadata": {
    "collapsed": false
   },
   "outputs": [],
   "source": [
    "#import csv\n",
    "#austin_data.to_csv('clean_austin_txt.csv', quoting=csv.QUOTE_NONE, quotechar=\"\",  escapechar=\"\\\\\")\n",
    "#frankenjura_data.to_csv('clean_frankenjura_txt.csv', quoting=csv.QUOTE_NONE, quotechar=\"\",  escapechar=\"\\\\\")"
   ]
  },
  {
   "cell_type": "code",
   "execution_count": 6,
   "metadata": {
    "collapsed": false
   },
   "outputs": [],
   "source": [
    "from nltk import word_tokenize\n",
    "from nltk.stem import WordNetLemmatizer \n",
    "\n",
    "class LemmaTokenizer(object):\n",
    "    def __init__(self):\n",
    "        self.wnl = WordNetLemmatizer()\n",
    "    def __call__(self, doc):\n",
    "        return [self.wnl.lemmatize(t) for t in word_tokenize(doc)]"
   ]
  },
  {
   "cell_type": "code",
   "execution_count": 223,
   "metadata": {
    "collapsed": false
   },
   "outputs": [],
   "source": [
    "count_vectorizer = CountVectorizer(tokenizer=LemmaTokenizer(), ngram_range=(1,3), max_features=1000, strip_accents='unicode', stop_words='english')\n",
    "page_text_count_vect = count_vectorizer.fit_transform(frankenjura_data['page_text_clean'])\n",
    "page_text_count_df = pd.DataFrame(page_text_count_vect.toarray())\n",
    "page_text_count_df.columns = [text+'_page_cnt' for text in count_vectorizer.get_feature_names()]"
   ]
  },
  {
   "cell_type": "code",
   "execution_count": 224,
   "metadata": {
    "collapsed": true
   },
   "outputs": [],
   "source": [
    "austin_page_text_count_vect = count_vectorizer.transform(austin_data['page_text_clean'])\n",
    "austin_text_count_df = pd.DataFrame(austin_page_text_count_vect.toarray())\n",
    "austin_text_count_df.columns = [text+'_page_cnt' for text in count_vectorizer.get_feature_names()]"
   ]
  },
  {
   "cell_type": "code",
   "execution_count": 306,
   "metadata": {
    "collapsed": true
   },
   "outputs": [],
   "source": [
    "tfidf_vectorizer = TfidfVectorizer(tokenizer=LemmaTokenizer(), ngram_range=(1,3), max_features=1000, strip_accents='unicode', stop_words='english')\n",
    "page_text_tfidf_vect = tfidf_vectorizer.fit_transform(frankenjura_data['page_text_clean'])\n",
    "page_text_tfidf_df = pd.DataFrame(page_text_tfidf_vect.toarray())\n",
    "page_text_tfidf_df.columns = [text+'_page_tfidf' for text in tfidf_vectorizer.get_feature_names()]"
   ]
  },
  {
   "cell_type": "code",
   "execution_count": 307,
   "metadata": {
    "collapsed": true
   },
   "outputs": [],
   "source": [
    "austin_page_text_tfidf_vect = tfidf_vectorizer.transform(austin_data['page_text_clean'])\n",
    "austin_text_tfidf_df = pd.DataFrame(austin_page_text_tfidf_vect.toarray())\n",
    "austin_text_tfidf_df.columns = [text+'_page_tfidf' for text in tfidf_vectorizer.get_feature_names()]"
   ]
  },
  {
   "cell_type": "code",
   "execution_count": 227,
   "metadata": {
    "collapsed": true
   },
   "outputs": [],
   "source": [
    "#count_vectorizer = CountVectorizer(tokenizer=LemmaTokenizer(), ngram_range=(1,1), max_features=1000, strip_accents='unicode', stop_words='english')\n",
    "#comment_text_count_vect = count_vectorizer.fit_transform(austin_data['comment_text_clean'])\n",
    "#comment_text_count_df = pd.DataFrame(comment_text_count_vect.toarray())\n",
    "#comment_text_count_df.columns = [text+'_cmt_cnt' for text in count_vectorizer.get_feature_names()]"
   ]
  },
  {
   "cell_type": "code",
   "execution_count": 228,
   "metadata": {
    "collapsed": true
   },
   "outputs": [],
   "source": [
    "#tfidf_vectorizer = TfidfVectorizer(tokenizer=LemmaTokenizer(), ngram_range=(1,1), max_features=1000, strip_accents='unicode', stop_words='english')\n",
    "#comment_text_tfidf_vect = tfidf_vectorizer.fit_transform(austin_data['comment_text_clean'])\n",
    "#comment_text_tfidf_df = pd.DataFrame(page_text_tfidf_vect.toarray())\n",
    "#comment_text_tfidf_df.columns = [text+'_comment_tfidf' for text in tfidf_vectorizer.get_feature_names()]"
   ]
  },
  {
   "cell_type": "code",
   "execution_count": null,
   "metadata": {
    "collapsed": true
   },
   "outputs": [],
   "source": [
    "page_text_count_df = pd.DataFrame(page_text_count_vect.toarray().toshape(100))\n",
    "page_text_count_df.columns = [text+'_page_cnt' for text in count_vectorizer.get_feature_names()]"
   ]
  },
  {
   "cell_type": "code",
   "execution_count": 302,
   "metadata": {
    "collapsed": false
   },
   "outputs": [],
   "source": [
    "from collections import Counter\n",
    "counts = austin_page_text_count_vect.sum(axis=0).A1\n",
    "vocab = list(count_vectorizer.get_feature_names())\n",
    "freq_distribution = Counter(dict(zip(vocab, counts)))"
   ]
  },
  {
   "cell_type": "code",
   "execution_count": 303,
   "metadata": {
    "collapsed": false
   },
   "outputs": [],
   "source": [
    "test_list = freq_distribution.most_common(10)"
   ]
  },
  {
   "cell_type": "code",
   "execution_count": 304,
   "metadata": {
    "collapsed": false
   },
   "outputs": [],
   "source": [
    "term_list = []\n",
    "for rows in test_list:\n",
    "    term_list.append({'term': rows[0], 'count': rows[1]})"
   ]
  },
  {
   "cell_type": "code",
   "execution_count": 305,
   "metadata": {
    "collapsed": false
   },
   "outputs": [
    {
     "data": {
      "text/html": [
       "<div>\n",
       "<table border=\"1\" class=\"dataframe\">\n",
       "  <thead>\n",
       "    <tr style=\"text-align: right;\">\n",
       "      <th></th>\n",
       "      <th>count</th>\n",
       "      <th>term</th>\n",
       "    </tr>\n",
       "  </thead>\n",
       "  <tbody>\n",
       "    <tr>\n",
       "      <th>0</th>\n",
       "      <td>1015</td>\n",
       "      <td>bolt</td>\n",
       "    </tr>\n",
       "    <tr>\n",
       "      <th>1</th>\n",
       "      <td>583</td>\n",
       "      <td>anchor</td>\n",
       "    </tr>\n",
       "    <tr>\n",
       "      <th>2</th>\n",
       "      <td>486</td>\n",
       "      <td>route</td>\n",
       "    </tr>\n",
       "    <tr>\n",
       "      <th>3</th>\n",
       "      <td>486</td>\n",
       "      <td>right</td>\n",
       "    </tr>\n",
       "    <tr>\n",
       "      <th>4</th>\n",
       "      <td>469</td>\n",
       "      <td>left</td>\n",
       "    </tr>\n",
       "    <tr>\n",
       "      <th>5</th>\n",
       "      <td>332</td>\n",
       "      <td>start</td>\n",
       "    </tr>\n",
       "    <tr>\n",
       "      <th>6</th>\n",
       "      <td>250</td>\n",
       "      <td>wall</td>\n",
       "    </tr>\n",
       "    <tr>\n",
       "      <th>7</th>\n",
       "      <td>224</td>\n",
       "      <td>roof</td>\n",
       "    </tr>\n",
       "    <tr>\n",
       "      <th>8</th>\n",
       "      <td>210</td>\n",
       "      <td>climb</td>\n",
       "    </tr>\n",
       "    <tr>\n",
       "      <th>9</th>\n",
       "      <td>197</td>\n",
       "      <td>clip</td>\n",
       "    </tr>\n",
       "  </tbody>\n",
       "</table>\n",
       "</div>"
      ],
      "text/plain": [
       "   count    term\n",
       "0   1015    bolt\n",
       "1    583  anchor\n",
       "2    486   route\n",
       "3    486   right\n",
       "4    469    left\n",
       "5    332   start\n",
       "6    250    wall\n",
       "7    224    roof\n",
       "8    210   climb\n",
       "9    197    clip"
      ]
     },
     "execution_count": 305,
     "metadata": {},
     "output_type": "execute_result"
    }
   ],
   "source": [
    "pd.DataFrame(term_list)"
   ]
  },
  {
   "cell_type": "code",
   "execution_count": 308,
   "metadata": {
    "collapsed": false
   },
   "outputs": [],
   "source": [
    "frankenjura_df = frankenjura_data[[\"Route\",\"Location\",\"URL\",\"Rating\"]]"
   ]
  },
  {
   "cell_type": "code",
   "execution_count": 310,
   "metadata": {
    "collapsed": true
   },
   "outputs": [],
   "source": [
    "fj_content_df = pd.concat([frankenjura_df, page_text_tfidf_df], axis=1, join='inner')"
   ]
  },
  {
   "cell_type": "code",
   "execution_count": 311,
   "metadata": {
    "collapsed": true
   },
   "outputs": [],
   "source": [
    "austin_df = austin_data[[\"Route\",\"Location\",\"URL\",\"Rating\"]]\n",
    "austin_content_df = pd.concat([austin_df, austin_text_tfidf_df], axis=1, join='inner')"
   ]
  },
  {
   "cell_type": "code",
   "execution_count": 312,
   "metadata": {
    "collapsed": false
   },
   "outputs": [],
   "source": [
    "def assign_group(grade):\n",
    "    grade = str(grade.replace('\"',''))[0:4].replace('+','').replace('-','').strip()\n",
    "    if grade in ['5.5','5.6','5.7','5.8','5.9']:\n",
    "        return '1'\n",
    "    elif grade in ['5.10','5.11']:\n",
    "        return '2'\n",
    "    elif grade in ['5.12','5.13','5.14']:\n",
    "        return '3'\n",
    "    else:\n",
    "        return '1'"
   ]
  },
  {
   "cell_type": "code",
   "execution_count": 313,
   "metadata": {
    "collapsed": false
   },
   "outputs": [],
   "source": [
    "fj_content_df['category'] = fj_content_df['Rating'].apply(assign_group)"
   ]
  },
  {
   "cell_type": "code",
   "execution_count": 314,
   "metadata": {
    "collapsed": true
   },
   "outputs": [],
   "source": [
    "austin_content_df['category'] = austin_content_df['Rating'].apply(assign_group)"
   ]
  },
  {
   "cell_type": "code",
   "execution_count": 315,
   "metadata": {
    "collapsed": false
   },
   "outputs": [],
   "source": [
    "y_col = 'category'\n",
    "x_col = fj_content_df.drop(['Route','Location','Location','Rating','URL','category'],axis=1).columns.values"
   ]
  },
  {
   "cell_type": "code",
   "execution_count": 316,
   "metadata": {
    "collapsed": false
   },
   "outputs": [],
   "source": [
    "X_data = fj_content_df[x_col]\n",
    "Y_data = fj_content_df[y_col]"
   ]
  },
  {
   "cell_type": "code",
   "execution_count": 317,
   "metadata": {
    "collapsed": true
   },
   "outputs": [],
   "source": [
    "X_austin_data = austin_content_df[x_col]\n",
    "Y_austin_data = austin_content_df[y_col]"
   ]
  },
  {
   "cell_type": "code",
   "execution_count": 318,
   "metadata": {
    "collapsed": false
   },
   "outputs": [
    {
     "data": {
      "image/png": "[encoded data removed]",
      "text/plain": [
       "<matplotlib.figure.Figure at 0x1202a5510>"
      ]
     },
     "metadata": {},
     "output_type": "display_data"
    }
   ],
   "source": [
    "model = MultinomialNB(alpha=1.0)\n",
    "X_train, X_test, y_train, y_test = train_test_split(X_data, Y_data, test_size=0.3, random_state=7)\n",
    "model.fit(X_train, y_train)\n",
    "y_pred = model.predict(X_test)\n",
    "conf_mat = confusion_matrix(y_test, y_pred)\n",
    "sns.heatmap(conf_mat.T, square=True, annot=True, fmt='d', cbar=False)\n",
    "plt.xlabel('true label')\n",
    "plt.ylabel('predicted label');"
   ]
  },
  {
   "cell_type": "code",
   "execution_count": 319,
   "metadata": {
    "collapsed": false
   },
   "outputs": [
    {
     "data": {
      "text/plain": [
       "0.64000000000000001"
      ]
     },
     "execution_count": 319,
     "metadata": {},
     "output_type": "execute_result"
    }
   ],
   "source": [
    "accuracy_score(y_test, y_pred)"
   ]
  },
  {
   "cell_type": "code",
   "execution_count": 320,
   "metadata": {
    "collapsed": false
   },
   "outputs": [
    {
     "data": {
      "image/png": "[encoded data removed]",
      "text/plain": [
       "<matplotlib.figure.Figure at 0x116deef50>"
      ]
     },
     "metadata": {},
     "output_type": "display_data"
    }
   ],
   "source": [
    "austin_y_pred = model.predict(X_austin_data)\n",
    "conf_mat = confusion_matrix(Y_austin_data, austin_y_pred)\n",
    "sns.heatmap(conf_mat.T, square=True, annot=True, fmt='d', cbar=False)\n",
    "plt.xlabel('true label')\n",
    "plt.ylabel('predicted label');"
   ]
  },
  {
   "cell_type": "code",
   "execution_count": 321,
   "metadata": {
    "collapsed": false
   },
   "outputs": [
    {
     "data": {
      "text/plain": [
       "0.54528985507246375"
      ]
     },
     "execution_count": 321,
     "metadata": {},
     "output_type": "execute_result"
    }
   ],
   "source": [
    "accuracy_score(Y_austin_data, austin_y_pred)"
   ]
  },
  {
   "cell_type": "code",
   "execution_count": 249,
   "metadata": {
    "collapsed": false
   },
   "outputs": [],
   "source": [
    "nb_feature_df = pd.DataFrame(x_col, columns=['text_features'])\n",
    "nb_feature_df['1_count'] = model.feature_count_[0]\n",
    "nb_feature_df['2_count'] = model.feature_count_[1]\n",
    "nb_feature_df['3_count'] = model.feature_count_[2]"
   ]
  },
  {
   "cell_type": "code",
   "execution_count": 268,
   "metadata": {
    "collapsed": false
   },
   "outputs": [],
   "source": [
    "import math\n",
    "\n",
    "nb_feature_df['1_diff'] = nb_feature_df['1_count']/(nb_feature_df['1_count']+nb_feature_df['2_count'] + nb_feature_df['3_count'])\n",
    "nb_feature_df['2_diff'] = nb_feature_df['2_count']/(nb_feature_df['1_count']+nb_feature_df['2_count'] + nb_feature_df['3_count'])\n",
    "nb_feature_df['3_diff'] = nb_feature_df['3_count']/(nb_feature_df['1_count']+nb_feature_df['2_count'] + nb_feature_df['3_count'])"
   ]
  },
  {
   "cell_type": "code",
   "execution_count": 269,
   "metadata": {
    "collapsed": false
   },
   "outputs": [
    {
     "data": {
      "text/html": [
       "<div>\n",
       "<table border=\"1\" class=\"dataframe\">\n",
       "  <thead>\n",
       "    <tr style=\"text-align: right;\">\n",
       "      <th></th>\n",
       "      <th>text_features</th>\n",
       "      <th>1_count</th>\n",
       "      <th>2_count</th>\n",
       "      <th>3_count</th>\n",
       "      <th>1_diff</th>\n",
       "      <th>2_diff</th>\n",
       "      <th>3_diff</th>\n",
       "    </tr>\n",
       "  </thead>\n",
       "  <tbody>\n",
       "    <tr>\n",
       "      <th>620</th>\n",
       "      <td>nice little_page_cnt</td>\n",
       "      <td>8.000000</td>\n",
       "      <td>0.0</td>\n",
       "      <td>0.0</td>\n",
       "      <td>1.0</td>\n",
       "      <td>0.0</td>\n",
       "      <td>0.0</td>\n",
       "    </tr>\n",
       "    <tr>\n",
       "      <th>40</th>\n",
       "      <td>55_page_cnt</td>\n",
       "      <td>5.000000</td>\n",
       "      <td>0.0</td>\n",
       "      <td>0.0</td>\n",
       "      <td>1.0</td>\n",
       "      <td>0.0</td>\n",
       "      <td>0.0</td>\n",
       "    </tr>\n",
       "    <tr>\n",
       "      <th>1040</th>\n",
       "      <td>55_page_tfidf</td>\n",
       "      <td>0.908214</td>\n",
       "      <td>0.0</td>\n",
       "      <td>0.0</td>\n",
       "      <td>1.0</td>\n",
       "      <td>0.0</td>\n",
       "      <td>0.0</td>\n",
       "    </tr>\n",
       "    <tr>\n",
       "      <th>1022</th>\n",
       "      <td>3 sling_page_tfidf</td>\n",
       "      <td>0.916884</td>\n",
       "      <td>0.0</td>\n",
       "      <td>0.0</td>\n",
       "      <td>1.0</td>\n",
       "      <td>0.0</td>\n",
       "      <td>0.0</td>\n",
       "    </tr>\n",
       "    <tr>\n",
       "      <th>464</th>\n",
       "      <td>heading left_page_cnt</td>\n",
       "      <td>1.000000</td>\n",
       "      <td>0.0</td>\n",
       "      <td>0.0</td>\n",
       "      <td>1.0</td>\n",
       "      <td>0.0</td>\n",
       "      <td>0.0</td>\n",
       "    </tr>\n",
       "    <tr>\n",
       "      <th>465</th>\n",
       "      <td>heading left route_page_cnt</td>\n",
       "      <td>1.000000</td>\n",
       "      <td>0.0</td>\n",
       "      <td>0.0</td>\n",
       "      <td>1.0</td>\n",
       "      <td>0.0</td>\n",
       "      <td>0.0</td>\n",
       "    </tr>\n",
       "    <tr>\n",
       "      <th>979</th>\n",
       "      <td>way right_page_cnt</td>\n",
       "      <td>4.000000</td>\n",
       "      <td>0.0</td>\n",
       "      <td>0.0</td>\n",
       "      <td>1.0</td>\n",
       "      <td>0.0</td>\n",
       "      <td>0.0</td>\n",
       "    </tr>\n",
       "    <tr>\n",
       "      <th>114</th>\n",
       "      <td>blood_page_cnt</td>\n",
       "      <td>4.000000</td>\n",
       "      <td>0.0</td>\n",
       "      <td>0.0</td>\n",
       "      <td>1.0</td>\n",
       "      <td>0.0</td>\n",
       "      <td>0.0</td>\n",
       "    </tr>\n",
       "    <tr>\n",
       "      <th>113</th>\n",
       "      <td>blocky_page_cnt</td>\n",
       "      <td>6.000000</td>\n",
       "      <td>0.0</td>\n",
       "      <td>0.0</td>\n",
       "      <td>1.0</td>\n",
       "      <td>0.0</td>\n",
       "      <td>0.0</td>\n",
       "    </tr>\n",
       "    <tr>\n",
       "      <th>929</th>\n",
       "      <td>top2 bolt_page_cnt</td>\n",
       "      <td>5.000000</td>\n",
       "      <td>0.0</td>\n",
       "      <td>0.0</td>\n",
       "      <td>1.0</td>\n",
       "      <td>0.0</td>\n",
       "      <td>0.0</td>\n",
       "    </tr>\n",
       "  </tbody>\n",
       "</table>\n",
       "</div>"
      ],
      "text/plain": [
       "                    text_features   1_count  2_count  3_count  1_diff  2_diff  \\\n",
       "620          nice little_page_cnt  8.000000      0.0      0.0     1.0     0.0   \n",
       "40                    55_page_cnt  5.000000      0.0      0.0     1.0     0.0   \n",
       "1040                55_page_tfidf  0.908214      0.0      0.0     1.0     0.0   \n",
       "1022           3 sling_page_tfidf  0.916884      0.0      0.0     1.0     0.0   \n",
       "464         heading left_page_cnt  1.000000      0.0      0.0     1.0     0.0   \n",
       "465   heading left route_page_cnt  1.000000      0.0      0.0     1.0     0.0   \n",
       "979            way right_page_cnt  4.000000      0.0      0.0     1.0     0.0   \n",
       "114                blood_page_cnt  4.000000      0.0      0.0     1.0     0.0   \n",
       "113               blocky_page_cnt  6.000000      0.0      0.0     1.0     0.0   \n",
       "929            top2 bolt_page_cnt  5.000000      0.0      0.0     1.0     0.0   \n",
       "\n",
       "      3_diff  \n",
       "620      0.0  \n",
       "40       0.0  \n",
       "1040     0.0  \n",
       "1022     0.0  \n",
       "464      0.0  \n",
       "465      0.0  \n",
       "979      0.0  \n",
       "114      0.0  \n",
       "113      0.0  \n",
       "929      0.0  "
      ]
     },
     "execution_count": 269,
     "metadata": {},
     "output_type": "execute_result"
    }
   ],
   "source": [
    "nb_feature_df.sort_values(by='1_diff', ascending=False).head(n=10)"
   ]
  },
  {
   "cell_type": "code",
   "execution_count": 270,
   "metadata": {
    "collapsed": false
   },
   "outputs": [
    {
     "data": {
      "text/html": [
       "<div>\n",
       "<table border=\"1\" class=\"dataframe\">\n",
       "  <thead>\n",
       "    <tr style=\"text-align: right;\">\n",
       "      <th></th>\n",
       "      <th>text_features</th>\n",
       "      <th>1_count</th>\n",
       "      <th>2_count</th>\n",
       "      <th>3_count</th>\n",
       "      <th>1_diff</th>\n",
       "      <th>2_diff</th>\n",
       "      <th>3_diff</th>\n",
       "    </tr>\n",
       "  </thead>\n",
       "  <tbody>\n",
       "    <tr>\n",
       "      <th>1345</th>\n",
       "      <td>easier rock_page_tfidf</td>\n",
       "      <td>0.0</td>\n",
       "      <td>1.235351</td>\n",
       "      <td>0.0</td>\n",
       "      <td>0.0</td>\n",
       "      <td>1.0</td>\n",
       "      <td>0.0</td>\n",
       "    </tr>\n",
       "    <tr>\n",
       "      <th>1198</th>\n",
       "      <td>certainly_page_tfidf</td>\n",
       "      <td>0.0</td>\n",
       "      <td>0.986746</td>\n",
       "      <td>0.0</td>\n",
       "      <td>0.0</td>\n",
       "      <td>1.0</td>\n",
       "      <td>0.0</td>\n",
       "    </tr>\n",
       "    <tr>\n",
       "      <th>185</th>\n",
       "      <td>bouldery start_page_cnt</td>\n",
       "      <td>0.0</td>\n",
       "      <td>9.000000</td>\n",
       "      <td>0.0</td>\n",
       "      <td>0.0</td>\n",
       "      <td>1.0</td>\n",
       "      <td>0.0</td>\n",
       "    </tr>\n",
       "    <tr>\n",
       "      <th>564</th>\n",
       "      <td>linke_page_cnt</td>\n",
       "      <td>0.0</td>\n",
       "      <td>3.000000</td>\n",
       "      <td>0.0</td>\n",
       "      <td>0.0</td>\n",
       "      <td>1.0</td>\n",
       "      <td>0.0</td>\n",
       "    </tr>\n",
       "    <tr>\n",
       "      <th>1871</th>\n",
       "      <td>spend_page_tfidf</td>\n",
       "      <td>0.0</td>\n",
       "      <td>0.764383</td>\n",
       "      <td>0.0</td>\n",
       "      <td>0.0</td>\n",
       "      <td>1.0</td>\n",
       "      <td>0.0</td>\n",
       "    </tr>\n",
       "    <tr>\n",
       "      <th>1185</th>\n",
       "      <td>bouldery start_page_tfidf</td>\n",
       "      <td>0.0</td>\n",
       "      <td>2.738947</td>\n",
       "      <td>0.0</td>\n",
       "      <td>0.0</td>\n",
       "      <td>1.0</td>\n",
       "      <td>0.0</td>\n",
       "    </tr>\n",
       "    <tr>\n",
       "      <th>1190</th>\n",
       "      <td>bump_page_tfidf</td>\n",
       "      <td>0.0</td>\n",
       "      <td>0.452911</td>\n",
       "      <td>0.0</td>\n",
       "      <td>0.0</td>\n",
       "      <td>1.0</td>\n",
       "      <td>0.0</td>\n",
       "    </tr>\n",
       "    <tr>\n",
       "      <th>840</th>\n",
       "      <td>skip_page_cnt</td>\n",
       "      <td>0.0</td>\n",
       "      <td>1.000000</td>\n",
       "      <td>0.0</td>\n",
       "      <td>0.0</td>\n",
       "      <td>1.0</td>\n",
       "      <td>0.0</td>\n",
       "    </tr>\n",
       "    <tr>\n",
       "      <th>1486</th>\n",
       "      <td>hueco_page_tfidf</td>\n",
       "      <td>0.0</td>\n",
       "      <td>0.645501</td>\n",
       "      <td>0.0</td>\n",
       "      <td>0.0</td>\n",
       "      <td>1.0</td>\n",
       "      <td>0.0</td>\n",
       "    </tr>\n",
       "    <tr>\n",
       "      <th>1751</th>\n",
       "      <td>right hand_page_tfidf</td>\n",
       "      <td>0.0</td>\n",
       "      <td>0.714016</td>\n",
       "      <td>0.0</td>\n",
       "      <td>0.0</td>\n",
       "      <td>1.0</td>\n",
       "      <td>0.0</td>\n",
       "    </tr>\n",
       "  </tbody>\n",
       "</table>\n",
       "</div>"
      ],
      "text/plain": [
       "                  text_features  1_count   2_count  3_count  1_diff  2_diff  \\\n",
       "1345     easier rock_page_tfidf      0.0  1.235351      0.0     0.0     1.0   \n",
       "1198       certainly_page_tfidf      0.0  0.986746      0.0     0.0     1.0   \n",
       "185     bouldery start_page_cnt      0.0  9.000000      0.0     0.0     1.0   \n",
       "564              linke_page_cnt      0.0  3.000000      0.0     0.0     1.0   \n",
       "1871           spend_page_tfidf      0.0  0.764383      0.0     0.0     1.0   \n",
       "1185  bouldery start_page_tfidf      0.0  2.738947      0.0     0.0     1.0   \n",
       "1190            bump_page_tfidf      0.0  0.452911      0.0     0.0     1.0   \n",
       "840               skip_page_cnt      0.0  1.000000      0.0     0.0     1.0   \n",
       "1486           hueco_page_tfidf      0.0  0.645501      0.0     0.0     1.0   \n",
       "1751      right hand_page_tfidf      0.0  0.714016      0.0     0.0     1.0   \n",
       "\n",
       "      3_diff  \n",
       "1345     0.0  \n",
       "1198     0.0  \n",
       "185      0.0  \n",
       "564      0.0  \n",
       "1871     0.0  \n",
       "1185     0.0  \n",
       "1190     0.0  \n",
       "840      0.0  \n",
       "1486     0.0  \n",
       "1751     0.0  "
      ]
     },
     "execution_count": 270,
     "metadata": {},
     "output_type": "execute_result"
    }
   ],
   "source": [
    "nb_feature_df.sort_values(by='2_diff', ascending=False).head(n=10)"
   ]
  },
  {
   "cell_type": "code",
   "execution_count": 271,
   "metadata": {
    "collapsed": false
   },
   "outputs": [
    {
     "data": {
      "text/html": [
       "<div>\n",
       "<table border=\"1\" class=\"dataframe\">\n",
       "  <thead>\n",
       "    <tr style=\"text-align: right;\">\n",
       "      <th></th>\n",
       "      <th>text_features</th>\n",
       "      <th>1_count</th>\n",
       "      <th>2_count</th>\n",
       "      <th>3_count</th>\n",
       "      <th>1_diff</th>\n",
       "      <th>2_diff</th>\n",
       "      <th>3_diff</th>\n",
       "    </tr>\n",
       "  </thead>\n",
       "  <tbody>\n",
       "    <tr>\n",
       "      <th>39</th>\n",
       "      <td>512_page_cnt</td>\n",
       "      <td>0.0</td>\n",
       "      <td>0.0</td>\n",
       "      <td>3.000000</td>\n",
       "      <td>0.0</td>\n",
       "      <td>0.0</td>\n",
       "      <td>1.0</td>\n",
       "    </tr>\n",
       "    <tr>\n",
       "      <th>1838</th>\n",
       "      <td>sinker_page_tfidf</td>\n",
       "      <td>0.0</td>\n",
       "      <td>0.0</td>\n",
       "      <td>0.861137</td>\n",
       "      <td>0.0</td>\n",
       "      <td>0.0</td>\n",
       "      <td>1.0</td>\n",
       "    </tr>\n",
       "    <tr>\n",
       "      <th>417</th>\n",
       "      <td>gain_page_cnt</td>\n",
       "      <td>0.0</td>\n",
       "      <td>0.0</td>\n",
       "      <td>4.000000</td>\n",
       "      <td>0.0</td>\n",
       "      <td>0.0</td>\n",
       "      <td>1.0</td>\n",
       "    </tr>\n",
       "    <tr>\n",
       "      <th>1446</th>\n",
       "      <td>gullich_page_tfidf</td>\n",
       "      <td>0.0</td>\n",
       "      <td>0.0</td>\n",
       "      <td>1.109759</td>\n",
       "      <td>0.0</td>\n",
       "      <td>0.0</td>\n",
       "      <td>1.0</td>\n",
       "    </tr>\n",
       "    <tr>\n",
       "      <th>1417</th>\n",
       "      <td>gain_page_tfidf</td>\n",
       "      <td>0.0</td>\n",
       "      <td>0.0</td>\n",
       "      <td>0.712617</td>\n",
       "      <td>0.0</td>\n",
       "      <td>0.0</td>\n",
       "      <td>1.0</td>\n",
       "    </tr>\n",
       "    <tr>\n",
       "      <th>1992</th>\n",
       "      <td>world_page_tfidf</td>\n",
       "      <td>0.0</td>\n",
       "      <td>0.0</td>\n",
       "      <td>0.836101</td>\n",
       "      <td>0.0</td>\n",
       "      <td>0.0</td>\n",
       "      <td>1.0</td>\n",
       "    </tr>\n",
       "    <tr>\n",
       "      <th>1039</th>\n",
       "      <td>512_page_tfidf</td>\n",
       "      <td>0.0</td>\n",
       "      <td>0.0</td>\n",
       "      <td>0.709848</td>\n",
       "      <td>0.0</td>\n",
       "      <td>0.0</td>\n",
       "      <td>1.0</td>\n",
       "    </tr>\n",
       "    <tr>\n",
       "      <th>838</th>\n",
       "      <td>sinker_page_cnt</td>\n",
       "      <td>0.0</td>\n",
       "      <td>0.0</td>\n",
       "      <td>6.000000</td>\n",
       "      <td>0.0</td>\n",
       "      <td>0.0</td>\n",
       "      <td>1.0</td>\n",
       "    </tr>\n",
       "    <tr>\n",
       "      <th>839</th>\n",
       "      <td>sinker pocket_page_cnt</td>\n",
       "      <td>0.0</td>\n",
       "      <td>0.0</td>\n",
       "      <td>5.000000</td>\n",
       "      <td>0.0</td>\n",
       "      <td>0.0</td>\n",
       "      <td>1.0</td>\n",
       "    </tr>\n",
       "    <tr>\n",
       "      <th>992</th>\n",
       "      <td>world_page_cnt</td>\n",
       "      <td>0.0</td>\n",
       "      <td>0.0</td>\n",
       "      <td>7.000000</td>\n",
       "      <td>0.0</td>\n",
       "      <td>0.0</td>\n",
       "      <td>1.0</td>\n",
       "    </tr>\n",
       "  </tbody>\n",
       "</table>\n",
       "</div>"
      ],
      "text/plain": [
       "               text_features  1_count  2_count   3_count  1_diff  2_diff  \\\n",
       "39              512_page_cnt      0.0      0.0  3.000000     0.0     0.0   \n",
       "1838       sinker_page_tfidf      0.0      0.0  0.861137     0.0     0.0   \n",
       "417            gain_page_cnt      0.0      0.0  4.000000     0.0     0.0   \n",
       "1446      gullich_page_tfidf      0.0      0.0  1.109759     0.0     0.0   \n",
       "1417         gain_page_tfidf      0.0      0.0  0.712617     0.0     0.0   \n",
       "1992        world_page_tfidf      0.0      0.0  0.836101     0.0     0.0   \n",
       "1039          512_page_tfidf      0.0      0.0  0.709848     0.0     0.0   \n",
       "838          sinker_page_cnt      0.0      0.0  6.000000     0.0     0.0   \n",
       "839   sinker pocket_page_cnt      0.0      0.0  5.000000     0.0     0.0   \n",
       "992           world_page_cnt      0.0      0.0  7.000000     0.0     0.0   \n",
       "\n",
       "      3_diff  \n",
       "39       1.0  \n",
       "1838     1.0  \n",
       "417      1.0  \n",
       "1446     1.0  \n",
       "1417     1.0  \n",
       "1992     1.0  \n",
       "1039     1.0  \n",
       "838      1.0  \n",
       "839      1.0  \n",
       "992      1.0  "
      ]
     },
     "execution_count": 271,
     "metadata": {},
     "output_type": "execute_result"
    }
   ],
   "source": [
    "nb_feature_df.sort_values(by='3_diff', ascending=False).head(n=10)"
   ]
  },
  {
   "cell_type": "code",
   "execution_count": 322,
   "metadata": {
    "collapsed": false
   },
   "outputs": [
    {
     "data": {
      "image/png": "[encoded data removed]",
      "text/plain": [
       "<matplotlib.figure.Figure at 0x12126a4d0>"
      ]
     },
     "metadata": {},
     "output_type": "display_data"
    }
   ],
   "source": [
    "model = LogisticRegression()\n",
    "X_train, X_test, y_train, y_test = train_test_split(X_data, Y_data, test_size=0.3, random_state=7)\n",
    "model.fit(X_train, y_train)\n",
    "y_pred = model.predict(X_test)\n",
    "conf_mat = confusion_matrix(y_test, y_pred)\n",
    "sns.heatmap(conf_mat.T, square=True, annot=True, fmt='d', cbar=False)\n",
    "plt.xlabel('true label')\n",
    "plt.ylabel('predicted label');"
   ]
  },
  {
   "cell_type": "code",
   "execution_count": 323,
   "metadata": {
    "collapsed": false
   },
   "outputs": [
    {
     "data": {
      "text/plain": [
       "0.63666666666666671"
      ]
     },
     "execution_count": 323,
     "metadata": {},
     "output_type": "execute_result"
    }
   ],
   "source": [
    "accuracy_score(y_test, y_pred)"
   ]
  },
  {
   "cell_type": "code",
   "execution_count": 218,
   "metadata": {
    "collapsed": false
   },
   "outputs": [],
   "source": [
    "#coef_df['coef_value_1'] = model.coef_[0]\n",
    "#coef_df['coef_value_1_abs'] = coef_df['coef_value_1'].apply(abs)\n",
    "#coef_df['coef_value_2'] = model.coef_[1]\n",
    "#coef_df['coef_value_2_abs'] = coef_df['coef_value_2'].apply(abs)\n",
    "#coef_df['coef_value_3'] = model.coef_[2]\n",
    "#coef_df['coef_value_3_abs'] = coef_df['coef_value_3'].apply(abs)"
   ]
  },
  {
   "cell_type": "code",
   "execution_count": 219,
   "metadata": {
    "collapsed": false
   },
   "outputs": [],
   "source": [
    "null_accuracy = float(len(austin_content_df[austin_content_df.category=='2']))/float(len(austin_content_df))"
   ]
  },
  {
   "cell_type": "code",
   "execution_count": 220,
   "metadata": {
    "collapsed": false
   },
   "outputs": [
    {
     "name": "stdout",
     "output_type": "stream",
     "text": [
      "0.536231884058\n"
     ]
    }
   ],
   "source": [
    "print(null_accuracy)"
   ]
  },
  {
   "cell_type": "code",
   "execution_count": 324,
   "metadata": {
    "collapsed": false
   },
   "outputs": [
    {
     "data": {
      "image/png": "[encoded data removed]",
      "text/plain": [
       "<matplotlib.figure.Figure at 0x12932b550>"
      ]
     },
     "metadata": {},
     "output_type": "display_data"
    }
   ],
   "source": [
    "austin_y_pred = model.predict(X_austin_data)\n",
    "conf_mat = confusion_matrix(Y_austin_data, austin_y_pred)\n",
    "sns.heatmap(conf_mat.T, square=True, annot=True, fmt='d', cbar=False)\n",
    "plt.xlabel('true label')\n",
    "plt.ylabel('predicted label');"
   ]
  },
  {
   "cell_type": "code",
   "execution_count": 325,
   "metadata": {
    "collapsed": false
   },
   "outputs": [
    {
     "data": {
      "text/plain": [
       "0.53804347826086951"
      ]
     },
     "execution_count": 325,
     "metadata": {},
     "output_type": "execute_result"
    }
   ],
   "source": [
    "accuracy_score(Y_austin_data, austin_y_pred)"
   ]
  },
  {
   "cell_type": "code",
   "execution_count": 342,
   "metadata": {
    "collapsed": false
   },
   "outputs": [],
   "source": [
    "pred_df_austin = pd.DataFrame(model.predict_proba(X_austin_data)[:], columns=['1','2','3']).head()"
   ]
  },
  {
   "cell_type": "code",
   "execution_count": 359,
   "metadata": {
    "collapsed": false
   },
   "outputs": [],
   "source": [
    "austin_content_df['3_predictions'] = pred_df_austin['3']"
   ]
  },
  {
   "cell_type": "code",
   "execution_count": 362,
   "metadata": {
    "collapsed": false
   },
   "outputs": [
    {
     "name": "stderr",
     "output_type": "stream",
     "text": [
      "/Users/George/anaconda/lib/python2.7/site-packages/ipykernel/__main__.py:1: UserWarning: Boolean Series key will be reindexed to match DataFrame index.\n",
      "  if __name__ == '__main__':\n"
     ]
    },
    {
     "data": {
      "text/html": [
       "<div>\n",
       "<table border=\"1\" class=\"dataframe\">\n",
       "  <thead>\n",
       "    <tr style=\"text-align: right;\">\n",
       "      <th></th>\n",
       "      <th>Route</th>\n",
       "      <th>Location</th>\n",
       "      <th>URL</th>\n",
       "      <th>Rating</th>\n",
       "      <th>1_page_tfidf</th>\n",
       "      <th>1 bolt_page_tfidf</th>\n",
       "      <th>1 bolt anchor_page_tfidf</th>\n",
       "      <th>1 sling_page_tfidf</th>\n",
       "      <th>1 sling anchor_page_tfidf</th>\n",
       "      <th>1 sling pigtail_page_tfidf</th>\n",
       "      <th>...</th>\n",
       "      <th>written_page_tfidf</th>\n",
       "      <th>youd_page_tfidf</th>\n",
       "      <th>youll_page_tfidf</th>\n",
       "      <th>youre_page_tfidf</th>\n",
       "      <th>youve_page_tfidf</th>\n",
       "      <th>youve got_page_tfidf</th>\n",
       "      <th>category</th>\n",
       "      <th>2_predictions</th>\n",
       "      <th>1_predictions</th>\n",
       "      <th>3_predictions</th>\n",
       "    </tr>\n",
       "  </thead>\n",
       "  <tbody>\n",
       "    <tr>\n",
       "      <th>0</th>\n",
       "      <td>Liposuction</td>\n",
       "      <td>\"Sex Cave &gt; Reimer's Ranch &gt; Texas\"</td>\n",
       "      <td>https://www.mountainproject.com/route/10586534...</td>\n",
       "      <td>5.12a</td>\n",
       "      <td>0.0</td>\n",
       "      <td>0.0</td>\n",
       "      <td>0.0</td>\n",
       "      <td>0.0</td>\n",
       "      <td>0.0</td>\n",
       "      <td>0.0</td>\n",
       "      <td>...</td>\n",
       "      <td>0.0</td>\n",
       "      <td>0.0</td>\n",
       "      <td>0.0</td>\n",
       "      <td>0.0</td>\n",
       "      <td>0.0</td>\n",
       "      <td>0.0</td>\n",
       "      <td>3</td>\n",
       "      <td>0.557572</td>\n",
       "      <td>0.236674</td>\n",
       "      <td>0.205754</td>\n",
       "    </tr>\n",
       "  </tbody>\n",
       "</table>\n",
       "<p>1 rows × 1008 columns</p>\n",
       "</div>"
      ],
      "text/plain": [
       "         Route                             Location  \\\n",
       "0  Liposuction  \"Sex Cave > Reimer's Ranch > Texas\"   \n",
       "\n",
       "                                                 URL Rating  1_page_tfidf  \\\n",
       "0  https://www.mountainproject.com/route/10586534...  5.12a           0.0   \n",
       "\n",
       "   1 bolt_page_tfidf  1 bolt anchor_page_tfidf  1 sling_page_tfidf  \\\n",
       "0                0.0                       0.0                 0.0   \n",
       "\n",
       "   1 sling anchor_page_tfidf  1 sling pigtail_page_tfidf      ...        \\\n",
       "0                        0.0                         0.0      ...         \n",
       "\n",
       "   written_page_tfidf  youd_page_tfidf  youll_page_tfidf  youre_page_tfidf  \\\n",
       "0                 0.0              0.0               0.0               0.0   \n",
       "\n",
       "   youve_page_tfidf  youve got_page_tfidf  category  2_predictions  \\\n",
       "0               0.0                   0.0         3       0.557572   \n",
       "\n",
       "   1_predictions  3_predictions  \n",
       "0       0.236674       0.205754  \n",
       "\n",
       "[1 rows x 1008 columns]"
      ]
     },
     "execution_count": 362,
     "metadata": {},
     "output_type": "execute_result"
    }
   ],
   "source": [
    "austin_content_df[austin_content_df['2_predictions'] > austin_content_df['3_predictions']][austin_content_df.category == '3']"
   ]
  },
  {
   "cell_type": "code",
   "execution_count": null,
   "metadata": {
    "collapsed": true
   },
   "outputs": [],
   "source": []
  }
 ],
 "metadata": {
  "anaconda-cloud": {},
  "kernelspec": {
   "display_name": "Python [conda root]",
   "language": "python",
   "name": "conda-root-py"
  },
  "language_info": {
   "codemirror_mode": {
    "name": "ipython",
    "version": 2
   },
   "file_extension": ".py",
   "mimetype": "text/x-python",
   "name": "python",
   "nbconvert_exporter": "python",
   "pygments_lexer": "ipython2",
   "version": "2.7.12"
  }
 },
 "nbformat": 4,
 "nbformat_minor": 1
}
