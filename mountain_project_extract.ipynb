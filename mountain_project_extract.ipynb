{
 "cells": [
  {
   "cell_type": "code",
   "execution_count": 1,
   "metadata": {
    "collapsed": false
   },
   "outputs": [
    {
     "name": "stderr",
     "output_type": "stream",
     "text": [
      "DEBUG:root:info\n"
     ]
    }
   ],
   "source": [
    "import numpy as np\n",
    "import pandas as pd\n",
    "from bs4 import BeautifulSoup\n",
    "import urllib2\n",
    "from operator import itemgetter\n",
    "\n",
    "import logging\n",
    "logger = logging.getLogger()\n",
    "logger.setLevel(logging.DEBUG)\n",
    "logging.debug(\"info\")\n",
    "\n",
    "def get_beautiful_soup_of_url(url):\n",
    "    opener = urllib2.build_opener()\n",
    "    opener.addheaders = [('User-Agent', 'Mozilla/5.0')]\n",
    "    loc_doc = opener.open(url)\n",
    "    soup = BeautifulSoup(loc_doc, 'html.parser')\n",
    "    return soup\n",
    "\n",
    "def get_area_link(main_area):\n",
    "    return str(main_area).split(\"\\n\")[4].split(\" \")[3].replace('href=\"','').replace('\"','')\n",
    "\n",
    "def get_area_name(main_area):\n",
    "    return get_area_link(main_area).split(\"/\")[-1].replace('\"','')\n",
    "\n",
    "def get_area_dict(main_area):\n",
    "    return {\"name\":get_area_name(main_area), \"link\":get_area_link(main_area)}\n",
    "\n",
    "def return_area_routes(area_list):\n",
    "    full_route_list = []\n",
    "    for area in area_list:\n",
    "        url_soup = get_beautiful_soup_of_url(area)\n",
    "        full_route_list.append(url_soup.find(\"div\", {\"id\": \"route-guide\"}))\n",
    "    return full_route_list"
   ]
  },
  {
   "cell_type": "code",
   "execution_count": 26,
   "metadata": {
    "collapsed": true
   },
   "outputs": [],
   "source": [
    "def get_sub_area_link(left_nav_data):\n",
    "    return str(left_nav_data).split(\"\\n\")[1].split('href=\"')[1].split('\"')[0]\n",
    "\n",
    "def get_sub_area_name(left_nav_data):\n",
    "    return get_sub_area_link(left_nav_data).split(\"/\")[-1]\n",
    "\n",
    "def get_sub_area_dict(left_nav_data):\n",
    "    return get_sub_area_link(left_nav_data)\n",
    "\n",
    "def get_sub_area_data(sub_area_data):\n",
    "    sub_area_soup = get_beautiful_soup_of_url(sub_area_data)\n",
    "    sub_area_data = [get_sub_area_dict(left_nav_data) for left_nav_data in sub_area_soup.find_all(\"div\", {\"class\": \"lef-nav-row\"})]\n",
    "    return sub_area_data\n",
    "\n",
    "def return_sub_area_links(area_data):\n",
    "    temp_list = get_sub_area_data(area_data)\n",
    "    all_data = []\n",
    "    for area in temp_list:\n",
    "        all_data+=return_sub_area_links(area)\n",
    "    return all_data+temp_list"
   ]
  },
  {
   "cell_type": "code",
   "execution_count": 36,
   "metadata": {
    "collapsed": false
   },
   "outputs": [],
   "source": [
    "austin_urls = [\"https://www.mountainproject.com/area/105837312/reimers-ranch\",\"https://www.mountainproject.com/area/107788017/reimers-ranch-north-shore\",\"https://www.mountainproject.com/area/105905087/barton-creek-greenbelt\"]\n",
    "frankenjura_urls = [\"https://www.mountainproject.com/area/106172652/frankenjura\"]"
   ]
  },
  {
   "cell_type": "code",
   "execution_count": 37,
   "metadata": {
    "collapsed": false
   },
   "outputs": [],
   "source": [
    "def build_export_url(rock_type, area_id):\n",
    "    base_url = 'https://www.mountainproject.com/route-finder-export'\n",
    "    route_select_url = '?selectedIds='+str(area_id)\n",
    "    type_url = '&type='+str(rock_type)\n",
    "    setting_url = '&diffMinrock=800&diffMinboulder=20000&diffMinaid=70000&diffMinice=30000&diffMinmixed=50000&diffMaxrock=12400&diffMaxboulder=21400&diffMaxaid=75260&diffMaxice=38500&diffMaxmixed=60000&is_sport_climb=1&stars=0&pitches=0&sort1=popularity+desc&sort2=rating'\n",
    "    return base_url+route_select_url+type_url+setting_url\n",
    "\n",
    "def get_export_url_from_route_finder(area_id):\n",
    "    rock_type = ['rock']\n",
    "    for rock in rock_type:\n",
    "        try:\n",
    "            export_url = build_export_url(rock, area_id)\n",
    "            url_request = urllib2.urlopen(export_url)\n",
    "            route_data = url_request.readlines()\n",
    "        except:\n",
    "            route_data = []\n",
    "    return route_data\n",
    "\n",
    "def extract_area_id(sub_area_data):\n",
    "    return sub_area_data.split('/')[4]\n",
    "\n",
    "def extract_dataframe_from_area(area_list):\n",
    "    columns = ['Route','Location','URL','\"Avg Stars\"','\"Your Stars\"','Rating','Pitches','Length']\n",
    "    master_route_df = pd.DataFrame(columns=columns)\n",
    "    master_route_data = []\n",
    "    test_area = [extract_area_id(area) for area in area_list]\n",
    "    for area in test_area:\n",
    "        route_data = get_export_url_from_route_finder(area)\n",
    "        temp_data = [test.split(',')[0:5] + test.split(',')[-3:] for test in route_data[1:]]\n",
    "        route_data_df = pd.DataFrame(temp_data, columns=columns)\n",
    "        master_route_df = master_route_df.append(route_data_df, ignore_index=True)\n",
    "    return master_route_df"
   ]
  },
  {
   "cell_type": "code",
   "execution_count": 40,
   "metadata": {
    "collapsed": false
   },
   "outputs": [],
   "source": [
    "austin_route_df = extract_dataframe_from_area(austin_urls)\n",
    "frankenjura_route_df = extract_dataframe_from_area(frankenjura_urls)"
   ]
  },
  {
   "cell_type": "code",
   "execution_count": 42,
   "metadata": {
    "collapsed": false
   },
   "outputs": [],
   "source": [
    "#austin_route_df.to_csv('austin_rd.csv')"
   ]
  },
  {
   "cell_type": "code",
   "execution_count": 43,
   "metadata": {
    "collapsed": true
   },
   "outputs": [],
   "source": [
    "#frankenjura_route_df.to_csv('frankenjura_rd.csv')"
   ]
  },
  {
   "cell_type": "code",
   "execution_count": null,
   "metadata": {
    "collapsed": true
   },
   "outputs": [],
   "source": [
    "# Follow Up Steps\n",
    "# 1) Scrape text data from URLS available\n",
    "# 2) Extract Text Features from Page\n",
    "# 3) Extract General Weather data from Area\n",
    "# 4) Geographical data from area\n",
    "# 5) Merge into Master Dataframe\n",
    "# 6) Outcome - Star Rating of Route\n",
    "# 7) Move onto Modeling"
   ]
  },
  {
   "cell_type": "code",
   "execution_count": 54,
   "metadata": {
    "collapsed": true
   },
   "outputs": [],
   "source": [
    "def return_route_soup(route_url):\n",
    "    try:\n",
    "        route_soup = get_beautiful_soup_of_url(route_url)\n",
    "    except:\n",
    "        route_soup = ''\n",
    "    return route_soup\n",
    "\n",
    "def return_page_views(route_soup):\n",
    "    try:\n",
    "        route_details = route_soup.find_all(\"table\", {\"class\": \"description-details\"})\n",
    "        return str(route_details[0]).split(\"Page Views:\")[1].split(\"</td>\\n<td>\\n\")[1].split(\"total\")[0].strip()\n",
    "    except:\n",
    "        return ''\n",
    "\n",
    "def return_text(route_soup):\n",
    "    try:\n",
    "        route_details = route_soup.find_all(\"div\", {\"class\": \"fr-view\"})\n",
    "        return \"\".join([str(details).replace(\"<br>\",\"\").replace(\"</br>\",\"\").replace('<div class=\"fr-view\">',\"\").replace(\"</div>\",\"\") for details in route_details])\n",
    "    except:\n",
    "        return ''\n",
    "    \n",
    "def number_of_photos(route_soup):\n",
    "    try:\n",
    "        route_details = route_soup.find_all(\"div\", {\"class\": \"col-xs-4 col-lg-3 card-with-photo\"})\n",
    "        return len(route_details)\n",
    "    except:\n",
    "        return ''\n",
    "\n",
    "def number_of_comments(route_soup):\n",
    "    try:\n",
    "        route_details = route_details = route_soup.find_all(\"table\", {\"class\": \"main-comment width100\"})\n",
    "        return len(route_details)\n",
    "    except:\n",
    "        return ''\n",
    "\n",
    "def return_comment_text(route_soup):\n",
    "    try:\n",
    "        route_details = route_soup.find_all(\"div\", {\"class\": \"comment-body max-height max-height-md-300 max-height-xs-150\"})\n",
    "        return \"\".join([str(details) \\\n",
    "             .replace('<div class=\"comment-body max-height max-height-md-300 max-height-xs-150\">\\n',\"\")\\\n",
    "             .replace(\"<br>\",\"\") \\\n",
    "             .replace(\"</br>\",\"\") \\\n",
    "             .replace('<span class=\"comment-time\">\\n',\"\") \\\n",
    "             .replace('</span>\\n</div>',\"\") \\\n",
    "             .replace('\\n                                    ',' ') \\\n",
    "             .strip() for details in route_details])\n",
    "    except:\n",
    "        return ''"
   ]
  },
  {
   "cell_type": "code",
   "execution_count": 49,
   "metadata": {
    "collapsed": false
   },
   "outputs": [
    {
     "data": {
      "text/plain": [
       "1000"
      ]
     },
     "execution_count": 49,
     "metadata": {},
     "output_type": "execute_result"
    }
   ],
   "source": [
    "len(frankenjura_route_df)"
   ]
  },
  {
   "cell_type": "code",
   "execution_count": 55,
   "metadata": {
    "collapsed": false
   },
   "outputs": [],
   "source": [
    "austin_route_df['route_soup'] = austin_route_df['URL'].apply(return_route_soup)\n",
    "\n",
    "frankenjura_route_df['route_soup'] = frankenjura_route_df['URL'].apply(return_route_soup)"
   ]
  },
  {
   "cell_type": "code",
   "execution_count": 57,
   "metadata": {
    "collapsed": false
   },
   "outputs": [],
   "source": [
    "austin_route_df['page_text'] = austin_route_df['route_soup'].apply(return_text)\n",
    "austin_route_df['comment_text'] = austin_route_df['route_soup'].apply(return_comment_text)\n",
    "\n",
    "frankenjura_route_df['page_text'] = frankenjura_route_df['route_soup'].apply(return_text)\n",
    "frankenjura_route_df['comment_text'] = frankenjura_route_df['route_soup'].apply(return_comment_text)"
   ]
  },
  {
   "cell_type": "code",
   "execution_count": 59,
   "metadata": {
    "collapsed": false
   },
   "outputs": [],
   "source": [
    "austin_route_df.to_csv('austin_route_text.csv')\n",
    "frankenjura_route_df.to_csv('frankenjura_route_text.csv')"
   ]
  },
  {
   "cell_type": "code",
   "execution_count": null,
   "metadata": {
    "collapsed": true
   },
   "outputs": [],
   "source": []
  }
 ],
 "metadata": {
  "anaconda-cloud": {},
  "kernelspec": {
   "display_name": "Python [conda root]",
   "language": "python",
   "name": "conda-root-py"
  },
  "language_info": {
   "codemirror_mode": {
    "name": "ipython",
    "version": 2
   },
   "file_extension": ".py",
   "mimetype": "text/x-python",
   "name": "python",
   "nbconvert_exporter": "python",
   "pygments_lexer": "ipython2",
   "version": "2.7.12"
  }
 },
 "nbformat": 4,
 "nbformat_minor": 1
}
