{
 "cells": [
  {
   "cell_type": "code",
   "execution_count": 65,
   "metadata": {
    "collapsed": false
   },
   "outputs": [],
   "source": [
    "import numpy as np\n",
    "import pandas as pd\n",
    "from bs4 import BeautifulSoup\n",
    "import urllib2\n",
    "from operator import itemgetter"
   ]
  },
  {
   "cell_type": "code",
   "execution_count": 66,
   "metadata": {
    "collapsed": false
   },
   "outputs": [],
   "source": [
    "def get_beautiful_soup_of_url(url):\n",
    "    opener = urllib2.build_opener()\n",
    "    opener.addheaders = [('User-Agent', 'Mozilla/5.0')]\n",
    "    loc_doc = opener.open(url)\n",
    "    soup = BeautifulSoup(loc_doc, 'html.parser')\n",
    "    return soup\n",
    "\n",
    "def get_area_link(main_area):\n",
    "    return str(main_area).split(\"\\n\")[4].split(\" \")[3].replace('href=\"','').replace('\"','')\n",
    "\n",
    "def get_area_name(main_area):\n",
    "    return get_area_link(main_area).split(\"/\")[-1].replace('\"','')\n",
    "\n",
    "def get_area_dict(main_area):\n",
    "    return {\"name\":get_area_name(main_area), \"link\":get_area_link(main_area)}"
   ]
  },
  {
   "cell_type": "code",
   "execution_count": 210,
   "metadata": {
    "collapsed": false
   },
   "outputs": [],
   "source": [
    "mp_url = \"https://www.mountainproject.com\"\n",
    "url_soup = get_beautiful_soup_of_url(mp_url)\n",
    "route_guide = url_soup.find(\"div\", {\"id\": \"route-guide\"})\n",
    "\n",
    "area_data = [get_area_dict(main_area) for main_area in route_guide.find_all(\"strong\")]\n",
    "area_data = {v['name']:v for v in area_data}.values()\n",
    "area_data = sorted(area_data, key=itemgetter('name'))"
   ]
  },
  {
   "cell_type": "code",
   "execution_count": 216,
   "metadata": {
    "collapsed": false
   },
   "outputs": [],
   "source": [
    "def get_sub_area_link(left_nav_data):\n",
    "    return str(left_nav_data).split(\"\\n\")[1].split('href=\"')[1].split('\"')[0]\n",
    "\n",
    "def get_sub_area_name(left_nav_data):\n",
    "    return get_sub_area_link(left_nav_data).split(\"/\")[-1]\n",
    "\n",
    "def get_sub_area_dict(left_nav_data):\n",
    "    return {\"name\":get_sub_area_name(left_nav_data), \"link\":get_sub_area_link(left_nav_data)}\n",
    "\n",
    "def get_sub_area_data(sub_area_data):\n",
    "    if sub_area_data['link']:\n",
    "        sub_area_soup = get_beautiful_soup_of_url(sub_area_data[\"link\"])\n",
    "        sub_area_data = [get_sub_area_dict(left_nav_data) for left_nav_data in sub_area_soup.find_all(\"div\", {\"class\": \"lef-nav-row\"})]\n",
    "        sub_area_data = {v['name']:v for v in sub_area_data}.values()\n",
    "        sub_area_data = sorted(sub_area_data, key=itemgetter('name'))\n",
    "        return sub_area_data"
   ]
  },
  {
   "cell_type": "code",
   "execution_count": 234,
   "metadata": {
    "collapsed": false
   },
   "outputs": [
    {
     "data": {
      "text/plain": [
       "[{'link': 'https://www.mountainproject.com/area/105905173/alabama',\n",
       "  'name': 'alabama'}]"
      ]
     },
     "execution_count": 234,
     "metadata": {},
     "output_type": "execute_result"
    }
   ],
   "source": [
    "for area in test_area:\n",
    "    try:\n",
    "        sub_area = get_sub_area_data(area)\n",
    "    except:\n",
    "        sub_area = []"
   ]
  },
  {
   "cell_type": "code",
   "execution_count": 233,
   "metadata": {
    "collapsed": false
   },
   "outputs": [
    {
     "name": "stdout",
     "output_type": "stream",
     "text": [
      "[{'link': 'https://www.mountainproject.com/area/113785823/alexander-city', 'name': 'alexander-city'}, {'link': 'https://www.mountainproject.com/area/107605102/bankhead-forest-thompson-creek-trail', 'name': 'bankhead-forest-thompson-creek-trail'}, {'link': 'https://www.mountainproject.com/area/106248455/bankhead-forestship-rock', 'name': 'bankhead-forestship-rock'}, {'link': 'https://www.mountainproject.com/area/108146250/bankhead-forestsipsey-picnic-area', 'name': 'bankhead-forestsipsey-picnic-area'}, {'link': 'https://www.mountainproject.com/area/106833394/cherokee-bluffs', 'name': 'cherokee-bluffs'}, {'link': 'https://www.mountainproject.com/area/109749052/chewacla-state-park', 'name': 'chewacla-state-park'}, {'link': 'https://www.mountainproject.com/area/106222485/colbert-heights', 'name': 'colbert-heights'}, {'link': 'https://www.mountainproject.com/area/106087709/coosa-slabs', 'name': 'coosa-slabs'}, {'link': 'https://www.mountainproject.com/area/114296768/fort-rucker-climbing-wall', 'name': 'fort-rucker-climbing-wall'}, {'link': 'https://www.mountainproject.com/area/105923472/griffin-falls', 'name': 'griffin-falls'}, {'link': 'https://www.mountainproject.com/area/114570504/gulf-state-park-boulder-park', 'name': 'gulf-state-park-boulder-park'}, {'link': 'https://www.mountainproject.com/area/106363568/home-crag-boulders-aka-sherriff-boulders', 'name': 'home-crag-boulders-aka-sherriff-boulders'}, {'link': 'https://www.mountainproject.com/area/106094862/horse-pens-40', 'name': 'horse-pens-40'}, {'link': 'https://www.mountainproject.com/area/107890555/hospital-boulders', 'name': 'hospital-boulders'}, {'link': 'https://www.mountainproject.com/area/106161967/hurricane-creek-park', 'name': 'hurricane-creek-park'}, {'link': 'https://www.mountainproject.com/area/105905660/jamestown', 'name': 'jamestown'}, {'link': 'https://www.mountainproject.com/area/106328004/lagrange', 'name': 'lagrange'}, {'link': 'https://www.mountainproject.com/area/110664560/lake-smith', 'name': 'lake-smith'}, {'link': 'https://www.mountainproject.com/area/112396116/little-river-canyon', 'name': 'little-river-canyon'}, {'link': 'https://www.mountainproject.com/area/112870791/monte-sano-state-park', 'name': 'monte-sano-state-park'}, {'link': 'https://www.mountainproject.com/area/105982504/moss-rock-preserve', 'name': 'moss-rock-preserve'}, {'link': 'https://www.mountainproject.com/area/105914427/palisades-park', 'name': 'palisades-park'}, {'link': 'https://www.mountainproject.com/area/111312815/rainbow-mountain', 'name': 'rainbow-mountain'}, {'link': 'https://www.mountainproject.com/area/105905184/sand-rock', 'name': 'sand-rock'}, {'link': 'https://www.mountainproject.com/area/106651452/seven-falls', 'name': 'seven-falls'}, {'link': 'https://www.mountainproject.com/area/109961363/smith-mountain', 'name': 'smith-mountain'}, {'link': 'https://www.mountainproject.com/area/110819919/steele', 'name': 'steele'}, {'link': 'https://www.mountainproject.com/area/107365709/temp-hp40', 'name': 'temp-hp40'}, {'link': 'https://www.mountainproject.com/area/110705691/the-dumps', 'name': 'the-dumps'}, {'link': 'https://www.mountainproject.com/area/114327282/tuscaloosa-ua-campus', 'name': 'tuscaloosa-ua-campus'}, {'link': 'https://www.mountainproject.com/area/106305856/yellow-bluff', 'name': 'yellow-bluff'}]\n"
     ]
    }
   ],
   "source": [
    "sub_area_master = []\n",
    "test_area = area_data[0:1]\n",
    "test = return_sub_area_links(test_area, sub_area_master)"
   ]
  },
  {
   "cell_type": "code",
   "execution_count": 231,
   "metadata": {
    "collapsed": false
   },
   "outputs": [
    {
     "name": "stdout",
     "output_type": "stream",
     "text": [
      "None\n"
     ]
    }
   ],
   "source": [
    "print test"
   ]
  },
  {
   "cell_type": "code",
   "execution_count": 184,
   "metadata": {
    "collapsed": false
   },
   "outputs": [
    {
     "name": "stdout",
     "output_type": "stream",
     "text": [
      "https://www.adventureprojects.net\n",
      "https://www.adventureprojects.net\n",
      "https://www.adventureprojects.net\n",
      "https://www.adventureprojects.net\n",
      "https://www.adventureprojects.net\n",
      "https://www.mountainproject.com/auth/login/facebook\n",
      "https://www.adventureprojects.net\n",
      "https://www.adventureprojects.net\n",
      "https://www.adventureprojects.net\n",
      "https://www.adventureprojects.net\n",
      "#\n",
      "https://www.adventureprojects.net\n",
      "https://www.adventureprojects.net\n",
      "https://www.adventureprojects.net\n",
      "https://www.adventureprojects.net\n",
      "#\n",
      "https://www.adventureprojects.net\n",
      "https://www.adventureprojects.net\n",
      "https://www.adventureprojects.net\n",
      "https://www.adventureprojects.net\n",
      "https://www.rei.com/\n",
      "https://www.adventureprojects.net\n",
      "https://www.adventureprojects.net\n",
      "https://www.adventureprojects.net\n",
      "https://www.adventureprojects.net\n",
      "https://www.rei.com/rei-garage\n",
      "https://www.adventureprojects.net\n",
      "https://www.adventureprojects.net\n",
      "https://www.adventureprojects.net\n",
      "https://www.adventureprojects.net\n",
      "https://www.rei.com/used\n",
      "https://www.adventureprojects.net\n",
      "https://www.adventureprojects.net\n",
      "https://www.adventureprojects.net\n",
      "https://www.adventureprojects.net\n",
      "https://www.rei.com/adventures\n",
      "https://www.adventureprojects.net\n",
      "https://www.adventureprojects.net\n",
      "https://www.adventureprojects.net\n",
      "https://www.adventureprojects.net\n",
      "https://www.rei.com/events\n",
      "https://www.adventureprojects.net\n",
      "https://www.adventureprojects.net\n",
      "https://www.adventureprojects.net\n",
      "https://www.adventureprojects.net\n",
      "https://www.rei.com/learn/expert-advice\n",
      "https://www.adventureprojects.net\n",
      "https://www.adventureprojects.net\n",
      "https://www.adventureprojects.net\n",
      "https://www.adventureprojects.net\n",
      "https://www.rei.com/blog\n",
      "https://www.adventureprojects.net\n",
      "https://www.adventureprojects.net\n",
      "https://www.adventureprojects.net\n",
      "https://www.adventureprojects.net\n",
      "https://www.rei.com/activities/search\n",
      "https://www.adventureprojects.net\n",
      "https://www.adventureprojects.net\n",
      "https://www.adventureprojects.net\n",
      "https://www.adventureprojects.net\n",
      "https://rei.jobs/careers/JobDetail/Sr-Software-Engineer/11901\n",
      "https://www.adventureprojects.net\n",
      "https://www.adventureprojects.net\n",
      "https://www.adventureprojects.net\n",
      "https://www.adventureprojects.net\n",
      "#\n",
      "https://www.adventureprojects.net\n",
      "https://www.adventureprojects.net\n",
      "https://www.adventureprojects.net\n",
      "https://www.adventureprojects.net\n",
      "#hamburger-contents\n",
      "https://www.adventureprojects.net\n",
      "https://www.adventureprojects.net\n",
      "https://www.adventureprojects.net\n",
      "https://www.adventureprojects.net\n",
      "#\n",
      "https://www.adventureprojects.net\n",
      "https://www.adventureprojects.net\n",
      "https://www.adventureprojects.net\n",
      "https://www.adventureprojects.net\n",
      "https://www.rei.com/h/climbing?cm_mmc=or_-_-ap_mp_-_-headerREIlogo\n",
      "https://www.adventureprojects.net\n",
      "https://www.adventureprojects.net\n",
      "https://www.adventureprojects.net\n",
      "https://www.adventureprojects.net\n",
      "/\n",
      "https://www.adventureprojects.net\n",
      "https://www.adventureprojects.net\n",
      "https://www.adventureprojects.net\n",
      "https://www.adventureprojects.net\n",
      "#\n",
      "https://www.adventureprojects.net\n",
      "https://www.adventureprojects.net\n",
      "https://www.adventureprojects.net\n",
      "https://www.adventureprojects.net\n",
      "https://www.mountainproject.com/route-guide\n",
      "https://www.adventureprojects.net\n",
      "https://www.adventureprojects.net\n",
      "https://www.adventureprojects.net\n",
      "https://www.adventureprojects.net\n",
      "https://www.mountainproject.com/whats-new\n",
      "https://www.adventureprojects.net\n",
      "https://www.adventureprojects.net\n",
      "https://www.adventureprojects.net\n",
      "https://www.adventureprojects.net\n",
      "https://www.mountainproject.com/partner-finder\n",
      "https://www.adventureprojects.net\n",
      "https://www.adventureprojects.net\n",
      "https://www.adventureprojects.net\n",
      "https://www.adventureprojects.net\n",
      "https://www.mountainproject.com/forum\n",
      "https://www.adventureprojects.net\n",
      "https://www.adventureprojects.net\n",
      "https://www.adventureprojects.net\n",
      "https://www.adventureprojects.net\n",
      "https://www.mountainproject.com/mobile-app\n",
      "https://www.adventureprojects.net\n",
      "https://www.adventureprojects.net\n",
      "https://www.adventureprojects.net\n",
      "https://www.adventureprojects.net\n",
      "https://www.mountainproject.com/route-guide\n"
     ]
    },
    {
     "ename": "KeyboardInterrupt",
     "evalue": "",
     "output_type": "error",
     "traceback": [
      "\u001b[0;31m---------------------------------------------------------------------------\u001b[0m",
      "\u001b[0;31mKeyboardInterrupt\u001b[0m                         Traceback (most recent call last)",
      "\u001b[0;32m<ipython-input-184-d18f56b6e793>\u001b[0m in \u001b[0;36m<module>\u001b[0;34m()\u001b[0m\n\u001b[1;32m     23\u001b[0m     \u001b[0;32mreturn\u001b[0m \u001b[0mlinks\u001b[0m\u001b[0;34m\u001b[0m\u001b[0m\n\u001b[1;32m     24\u001b[0m \u001b[0;34m\u001b[0m\u001b[0m\n\u001b[0;32m---> 25\u001b[0;31m \u001b[0mlinks\u001b[0m \u001b[0;34m=\u001b[0m \u001b[0mgetLinks\u001b[0m\u001b[0;34m(\u001b[0m\u001b[0;34m\"https://www.mountainproject.com/area/105905173/alabama\"\u001b[0m\u001b[0;34m)\u001b[0m\u001b[0;34m\u001b[0m\u001b[0m\n\u001b[0m\u001b[1;32m     26\u001b[0m \u001b[0;32mprint\u001b[0m\u001b[0;34m(\u001b[0m\u001b[0mlinks\u001b[0m\u001b[0;34m)\u001b[0m\u001b[0;34m\u001b[0m\u001b[0m\n",
      "\u001b[0;32m<ipython-input-184-d18f56b6e793>\u001b[0m in \u001b[0;36mgetLinks\u001b[0;34m(url)\u001b[0m\n\u001b[1;32m     20\u001b[0m     \u001b[0mlinks\u001b[0m \u001b[0;34m=\u001b[0m \u001b[0msoup\u001b[0m\u001b[0;34m.\u001b[0m\u001b[0mfind_all\u001b[0m\u001b[0;34m(\u001b[0m\u001b[0;34m'a'\u001b[0m\u001b[0;34m)\u001b[0m\u001b[0;34m\u001b[0m\u001b[0m\n\u001b[1;32m     21\u001b[0m     \u001b[0;32mfor\u001b[0m \u001b[0mlink\u001b[0m \u001b[0;32min\u001b[0m \u001b[0mlinks\u001b[0m\u001b[0;34m:\u001b[0m\u001b[0;34m\u001b[0m\u001b[0m\n\u001b[0;32m---> 22\u001b[0;31m         \u001b[0mlinks\u001b[0m\u001b[0;34m.\u001b[0m\u001b[0mappend\u001b[0m\u001b[0;34m(\u001b[0m\u001b[0mrecursiveUrl\u001b[0m\u001b[0;34m(\u001b[0m\u001b[0murl\u001b[0m\u001b[0;34m,\u001b[0m \u001b[0mlink\u001b[0m\u001b[0;34m,\u001b[0m \u001b[0;36m0\u001b[0m\u001b[0;34m)\u001b[0m\u001b[0;34m)\u001b[0m\u001b[0;34m\u001b[0m\u001b[0m\n\u001b[0m\u001b[1;32m     23\u001b[0m     \u001b[0;32mreturn\u001b[0m \u001b[0mlinks\u001b[0m\u001b[0;34m\u001b[0m\u001b[0m\n\u001b[1;32m     24\u001b[0m \u001b[0;34m\u001b[0m\u001b[0m\n",
      "\u001b[0;32m<ipython-input-184-d18f56b6e793>\u001b[0m in \u001b[0;36mrecursiveUrl\u001b[0;34m(url, link, depth)\u001b[0m\n\u001b[1;32m      7\u001b[0m     \u001b[0;32melse\u001b[0m\u001b[0;34m:\u001b[0m\u001b[0;34m\u001b[0m\u001b[0m\n\u001b[1;32m      8\u001b[0m         \u001b[0;32mprint\u001b[0m\u001b[0;34m(\u001b[0m\u001b[0mlink\u001b[0m\u001b[0;34m[\u001b[0m\u001b[0;34m'href'\u001b[0m\u001b[0;34m]\u001b[0m\u001b[0;34m)\u001b[0m\u001b[0;34m\u001b[0m\u001b[0m\n\u001b[0;32m----> 9\u001b[0;31m         \u001b[0mpage\u001b[0m \u001b[0;34m=\u001b[0m \u001b[0mrequests\u001b[0m\u001b[0;34m.\u001b[0m\u001b[0mget\u001b[0m\u001b[0;34m(\u001b[0m\u001b[0murl\u001b[0m \u001b[0;34m+\u001b[0m \u001b[0mlink\u001b[0m\u001b[0;34m[\u001b[0m\u001b[0;34m'href'\u001b[0m\u001b[0;34m]\u001b[0m\u001b[0;34m)\u001b[0m\u001b[0;34m\u001b[0m\u001b[0m\n\u001b[0m\u001b[1;32m     10\u001b[0m         \u001b[0msoup\u001b[0m \u001b[0;34m=\u001b[0m \u001b[0mBeautifulSoup\u001b[0m\u001b[0;34m(\u001b[0m\u001b[0mpage\u001b[0m\u001b[0;34m.\u001b[0m\u001b[0mtext\u001b[0m\u001b[0;34m,\u001b[0m \u001b[0;34m'html.parser'\u001b[0m\u001b[0;34m)\u001b[0m\u001b[0;34m\u001b[0m\u001b[0m\n\u001b[1;32m     11\u001b[0m         \u001b[0mnewlink\u001b[0m \u001b[0;34m=\u001b[0m \u001b[0msoup\u001b[0m\u001b[0;34m.\u001b[0m\u001b[0mfind\u001b[0m\u001b[0;34m(\u001b[0m\u001b[0;34m'a'\u001b[0m\u001b[0;34m)\u001b[0m\u001b[0;34m\u001b[0m\u001b[0m\n",
      "\u001b[0;32m/Users/George/anaconda/lib/python2.7/site-packages/requests/api.pyc\u001b[0m in \u001b[0;36mget\u001b[0;34m(url, params, **kwargs)\u001b[0m\n\u001b[1;32m     68\u001b[0m \u001b[0;34m\u001b[0m\u001b[0m\n\u001b[1;32m     69\u001b[0m     \u001b[0mkwargs\u001b[0m\u001b[0;34m.\u001b[0m\u001b[0msetdefault\u001b[0m\u001b[0;34m(\u001b[0m\u001b[0;34m'allow_redirects'\u001b[0m\u001b[0;34m,\u001b[0m \u001b[0mTrue\u001b[0m\u001b[0;34m)\u001b[0m\u001b[0;34m\u001b[0m\u001b[0m\n\u001b[0;32m---> 70\u001b[0;31m     \u001b[0;32mreturn\u001b[0m \u001b[0mrequest\u001b[0m\u001b[0;34m(\u001b[0m\u001b[0;34m'get'\u001b[0m\u001b[0;34m,\u001b[0m \u001b[0murl\u001b[0m\u001b[0;34m,\u001b[0m \u001b[0mparams\u001b[0m\u001b[0;34m=\u001b[0m\u001b[0mparams\u001b[0m\u001b[0;34m,\u001b[0m \u001b[0;34m**\u001b[0m\u001b[0mkwargs\u001b[0m\u001b[0;34m)\u001b[0m\u001b[0;34m\u001b[0m\u001b[0m\n\u001b[0m\u001b[1;32m     71\u001b[0m \u001b[0;34m\u001b[0m\u001b[0m\n\u001b[1;32m     72\u001b[0m \u001b[0;34m\u001b[0m\u001b[0m\n",
      "\u001b[0;32m/Users/George/anaconda/lib/python2.7/site-packages/requests/api.pyc\u001b[0m in \u001b[0;36mrequest\u001b[0;34m(method, url, **kwargs)\u001b[0m\n\u001b[1;32m     54\u001b[0m     \u001b[0;31m# cases, and look like a memory leak in others.\u001b[0m\u001b[0;34m\u001b[0m\u001b[0;34m\u001b[0m\u001b[0m\n\u001b[1;32m     55\u001b[0m     \u001b[0;32mwith\u001b[0m \u001b[0msessions\u001b[0m\u001b[0;34m.\u001b[0m\u001b[0mSession\u001b[0m\u001b[0;34m(\u001b[0m\u001b[0;34m)\u001b[0m \u001b[0;32mas\u001b[0m \u001b[0msession\u001b[0m\u001b[0;34m:\u001b[0m\u001b[0;34m\u001b[0m\u001b[0m\n\u001b[0;32m---> 56\u001b[0;31m         \u001b[0;32mreturn\u001b[0m \u001b[0msession\u001b[0m\u001b[0;34m.\u001b[0m\u001b[0mrequest\u001b[0m\u001b[0;34m(\u001b[0m\u001b[0mmethod\u001b[0m\u001b[0;34m=\u001b[0m\u001b[0mmethod\u001b[0m\u001b[0;34m,\u001b[0m \u001b[0murl\u001b[0m\u001b[0;34m=\u001b[0m\u001b[0murl\u001b[0m\u001b[0;34m,\u001b[0m \u001b[0;34m**\u001b[0m\u001b[0mkwargs\u001b[0m\u001b[0;34m)\u001b[0m\u001b[0;34m\u001b[0m\u001b[0m\n\u001b[0m\u001b[1;32m     57\u001b[0m \u001b[0;34m\u001b[0m\u001b[0m\n\u001b[1;32m     58\u001b[0m \u001b[0;34m\u001b[0m\u001b[0m\n",
      "\u001b[0;32m/Users/George/anaconda/lib/python2.7/site-packages/requests/sessions.pyc\u001b[0m in \u001b[0;36mrequest\u001b[0;34m(self, method, url, params, data, headers, cookies, files, auth, timeout, allow_redirects, proxies, hooks, stream, verify, cert, json)\u001b[0m\n\u001b[1;32m    486\u001b[0m         }\n\u001b[1;32m    487\u001b[0m         \u001b[0msend_kwargs\u001b[0m\u001b[0;34m.\u001b[0m\u001b[0mupdate\u001b[0m\u001b[0;34m(\u001b[0m\u001b[0msettings\u001b[0m\u001b[0;34m)\u001b[0m\u001b[0;34m\u001b[0m\u001b[0m\n\u001b[0;32m--> 488\u001b[0;31m         \u001b[0mresp\u001b[0m \u001b[0;34m=\u001b[0m \u001b[0mself\u001b[0m\u001b[0;34m.\u001b[0m\u001b[0msend\u001b[0m\u001b[0;34m(\u001b[0m\u001b[0mprep\u001b[0m\u001b[0;34m,\u001b[0m \u001b[0;34m**\u001b[0m\u001b[0msend_kwargs\u001b[0m\u001b[0;34m)\u001b[0m\u001b[0;34m\u001b[0m\u001b[0m\n\u001b[0m\u001b[1;32m    489\u001b[0m \u001b[0;34m\u001b[0m\u001b[0m\n\u001b[1;32m    490\u001b[0m         \u001b[0;32mreturn\u001b[0m \u001b[0mresp\u001b[0m\u001b[0;34m\u001b[0m\u001b[0m\n",
      "\u001b[0;32m/Users/George/anaconda/lib/python2.7/site-packages/requests/sessions.pyc\u001b[0m in \u001b[0;36msend\u001b[0;34m(self, request, **kwargs)\u001b[0m\n\u001b[1;32m    607\u001b[0m \u001b[0;34m\u001b[0m\u001b[0m\n\u001b[1;32m    608\u001b[0m         \u001b[0;31m# Send the request\u001b[0m\u001b[0;34m\u001b[0m\u001b[0;34m\u001b[0m\u001b[0m\n\u001b[0;32m--> 609\u001b[0;31m         \u001b[0mr\u001b[0m \u001b[0;34m=\u001b[0m \u001b[0madapter\u001b[0m\u001b[0;34m.\u001b[0m\u001b[0msend\u001b[0m\u001b[0;34m(\u001b[0m\u001b[0mrequest\u001b[0m\u001b[0;34m,\u001b[0m \u001b[0;34m**\u001b[0m\u001b[0mkwargs\u001b[0m\u001b[0;34m)\u001b[0m\u001b[0;34m\u001b[0m\u001b[0m\n\u001b[0m\u001b[1;32m    610\u001b[0m \u001b[0;34m\u001b[0m\u001b[0m\n\u001b[1;32m    611\u001b[0m         \u001b[0;31m# Total elapsed time of the request (approximately)\u001b[0m\u001b[0;34m\u001b[0m\u001b[0;34m\u001b[0m\u001b[0m\n",
      "\u001b[0;32m/Users/George/anaconda/lib/python2.7/site-packages/requests/adapters.pyc\u001b[0m in \u001b[0;36msend\u001b[0;34m(self, request, stream, timeout, verify, cert, proxies)\u001b[0m\n\u001b[1;32m    421\u001b[0m                     \u001b[0mdecode_content\u001b[0m\u001b[0;34m=\u001b[0m\u001b[0mFalse\u001b[0m\u001b[0;34m,\u001b[0m\u001b[0;34m\u001b[0m\u001b[0m\n\u001b[1;32m    422\u001b[0m                     \u001b[0mretries\u001b[0m\u001b[0;34m=\u001b[0m\u001b[0mself\u001b[0m\u001b[0;34m.\u001b[0m\u001b[0mmax_retries\u001b[0m\u001b[0;34m,\u001b[0m\u001b[0;34m\u001b[0m\u001b[0m\n\u001b[0;32m--> 423\u001b[0;31m                     \u001b[0mtimeout\u001b[0m\u001b[0;34m=\u001b[0m\u001b[0mtimeout\u001b[0m\u001b[0;34m\u001b[0m\u001b[0m\n\u001b[0m\u001b[1;32m    424\u001b[0m                 )\n\u001b[1;32m    425\u001b[0m \u001b[0;34m\u001b[0m\u001b[0m\n",
      "\u001b[0;32m/Users/George/anaconda/lib/python2.7/site-packages/requests/packages/urllib3/connectionpool.pyc\u001b[0m in \u001b[0;36murlopen\u001b[0;34m(self, method, url, body, headers, retries, redirect, assert_same_host, timeout, pool_timeout, release_conn, chunked, **response_kw)\u001b[0m\n\u001b[1;32m    592\u001b[0m                                                   \u001b[0mtimeout\u001b[0m\u001b[0;34m=\u001b[0m\u001b[0mtimeout_obj\u001b[0m\u001b[0;34m,\u001b[0m\u001b[0;34m\u001b[0m\u001b[0m\n\u001b[1;32m    593\u001b[0m                                                   \u001b[0mbody\u001b[0m\u001b[0;34m=\u001b[0m\u001b[0mbody\u001b[0m\u001b[0;34m,\u001b[0m \u001b[0mheaders\u001b[0m\u001b[0;34m=\u001b[0m\u001b[0mheaders\u001b[0m\u001b[0;34m,\u001b[0m\u001b[0;34m\u001b[0m\u001b[0m\n\u001b[0;32m--> 594\u001b[0;31m                                                   chunked=chunked)\n\u001b[0m\u001b[1;32m    595\u001b[0m \u001b[0;34m\u001b[0m\u001b[0m\n\u001b[1;32m    596\u001b[0m             \u001b[0;31m# If we're going to release the connection in ``finally:``, then\u001b[0m\u001b[0;34m\u001b[0m\u001b[0;34m\u001b[0m\u001b[0m\n",
      "\u001b[0;32m/Users/George/anaconda/lib/python2.7/site-packages/requests/packages/urllib3/connectionpool.pyc\u001b[0m in \u001b[0;36m_make_request\u001b[0;34m(self, conn, method, url, timeout, chunked, **httplib_request_kw)\u001b[0m\n\u001b[1;32m    348\u001b[0m         \u001b[0;31m# Trigger any extra validation we need to do.\u001b[0m\u001b[0;34m\u001b[0m\u001b[0;34m\u001b[0m\u001b[0m\n\u001b[1;32m    349\u001b[0m         \u001b[0;32mtry\u001b[0m\u001b[0;34m:\u001b[0m\u001b[0;34m\u001b[0m\u001b[0m\n\u001b[0;32m--> 350\u001b[0;31m             \u001b[0mself\u001b[0m\u001b[0;34m.\u001b[0m\u001b[0m_validate_conn\u001b[0m\u001b[0;34m(\u001b[0m\u001b[0mconn\u001b[0m\u001b[0;34m)\u001b[0m\u001b[0;34m\u001b[0m\u001b[0m\n\u001b[0m\u001b[1;32m    351\u001b[0m         \u001b[0;32mexcept\u001b[0m \u001b[0;34m(\u001b[0m\u001b[0mSocketTimeout\u001b[0m\u001b[0;34m,\u001b[0m \u001b[0mBaseSSLError\u001b[0m\u001b[0;34m)\u001b[0m \u001b[0;32mas\u001b[0m \u001b[0me\u001b[0m\u001b[0;34m:\u001b[0m\u001b[0;34m\u001b[0m\u001b[0m\n\u001b[1;32m    352\u001b[0m             \u001b[0;31m# Py2 raises this as a BaseSSLError, Py3 raises it as socket timeout.\u001b[0m\u001b[0;34m\u001b[0m\u001b[0;34m\u001b[0m\u001b[0m\n",
      "\u001b[0;32m/Users/George/anaconda/lib/python2.7/site-packages/requests/packages/urllib3/connectionpool.pyc\u001b[0m in \u001b[0;36m_validate_conn\u001b[0;34m(self, conn)\u001b[0m\n\u001b[1;32m    833\u001b[0m         \u001b[0;31m# Force connect early to allow us to validate the connection.\u001b[0m\u001b[0;34m\u001b[0m\u001b[0;34m\u001b[0m\u001b[0m\n\u001b[1;32m    834\u001b[0m         \u001b[0;32mif\u001b[0m \u001b[0;32mnot\u001b[0m \u001b[0mgetattr\u001b[0m\u001b[0;34m(\u001b[0m\u001b[0mconn\u001b[0m\u001b[0;34m,\u001b[0m \u001b[0;34m'sock'\u001b[0m\u001b[0;34m,\u001b[0m \u001b[0mNone\u001b[0m\u001b[0;34m)\u001b[0m\u001b[0;34m:\u001b[0m  \u001b[0;31m# AppEngine might not have  `.sock`\u001b[0m\u001b[0;34m\u001b[0m\u001b[0m\n\u001b[0;32m--> 835\u001b[0;31m             \u001b[0mconn\u001b[0m\u001b[0;34m.\u001b[0m\u001b[0mconnect\u001b[0m\u001b[0;34m(\u001b[0m\u001b[0;34m)\u001b[0m\u001b[0;34m\u001b[0m\u001b[0m\n\u001b[0m\u001b[1;32m    836\u001b[0m \u001b[0;34m\u001b[0m\u001b[0m\n\u001b[1;32m    837\u001b[0m         \u001b[0;32mif\u001b[0m \u001b[0;32mnot\u001b[0m \u001b[0mconn\u001b[0m\u001b[0;34m.\u001b[0m\u001b[0mis_verified\u001b[0m\u001b[0;34m:\u001b[0m\u001b[0;34m\u001b[0m\u001b[0m\n",
      "\u001b[0;32m/Users/George/anaconda/lib/python2.7/site-packages/requests/packages/urllib3/connection.pyc\u001b[0m in \u001b[0;36mconnect\u001b[0;34m(self)\u001b[0m\n\u001b[1;32m    321\u001b[0m             \u001b[0mca_cert_dir\u001b[0m\u001b[0;34m=\u001b[0m\u001b[0mself\u001b[0m\u001b[0;34m.\u001b[0m\u001b[0mca_cert_dir\u001b[0m\u001b[0;34m,\u001b[0m\u001b[0;34m\u001b[0m\u001b[0m\n\u001b[1;32m    322\u001b[0m             \u001b[0mserver_hostname\u001b[0m\u001b[0;34m=\u001b[0m\u001b[0mhostname\u001b[0m\u001b[0;34m,\u001b[0m\u001b[0;34m\u001b[0m\u001b[0m\n\u001b[0;32m--> 323\u001b[0;31m             ssl_context=context)\n\u001b[0m\u001b[1;32m    324\u001b[0m \u001b[0;34m\u001b[0m\u001b[0m\n\u001b[1;32m    325\u001b[0m         \u001b[0;32mif\u001b[0m \u001b[0mself\u001b[0m\u001b[0;34m.\u001b[0m\u001b[0massert_fingerprint\u001b[0m\u001b[0;34m:\u001b[0m\u001b[0;34m\u001b[0m\u001b[0m\n",
      "\u001b[0;32m/Users/George/anaconda/lib/python2.7/site-packages/requests/packages/urllib3/util/ssl_.pyc\u001b[0m in \u001b[0;36mssl_wrap_socket\u001b[0;34m(sock, keyfile, certfile, cert_reqs, ca_certs, server_hostname, ssl_version, ciphers, ssl_context, ca_cert_dir)\u001b[0m\n\u001b[1;32m    306\u001b[0m     \u001b[0;32mif\u001b[0m \u001b[0mca_certs\u001b[0m \u001b[0;32mor\u001b[0m \u001b[0mca_cert_dir\u001b[0m\u001b[0;34m:\u001b[0m\u001b[0;34m\u001b[0m\u001b[0m\n\u001b[1;32m    307\u001b[0m         \u001b[0;32mtry\u001b[0m\u001b[0;34m:\u001b[0m\u001b[0;34m\u001b[0m\u001b[0m\n\u001b[0;32m--> 308\u001b[0;31m             \u001b[0mcontext\u001b[0m\u001b[0;34m.\u001b[0m\u001b[0mload_verify_locations\u001b[0m\u001b[0;34m(\u001b[0m\u001b[0mca_certs\u001b[0m\u001b[0;34m,\u001b[0m \u001b[0mca_cert_dir\u001b[0m\u001b[0;34m)\u001b[0m\u001b[0;34m\u001b[0m\u001b[0m\n\u001b[0m\u001b[1;32m    309\u001b[0m         \u001b[0;32mexcept\u001b[0m \u001b[0mIOError\u001b[0m \u001b[0;32mas\u001b[0m \u001b[0me\u001b[0m\u001b[0;34m:\u001b[0m  \u001b[0;31m# Platform-specific: Python 2.6, 2.7, 3.2\u001b[0m\u001b[0;34m\u001b[0m\u001b[0m\n\u001b[1;32m    310\u001b[0m             \u001b[0;32mraise\u001b[0m \u001b[0mSSLError\u001b[0m\u001b[0;34m(\u001b[0m\u001b[0me\u001b[0m\u001b[0;34m)\u001b[0m\u001b[0;34m\u001b[0m\u001b[0m\n",
      "\u001b[0;32m/Users/George/anaconda/lib/python2.7/site-packages/requests/packages/urllib3/contrib/pyopenssl.pyc\u001b[0m in \u001b[0;36mload_verify_locations\u001b[0;34m(self, cafile, capath, cadata)\u001b[0m\n\u001b[1;32m    390\u001b[0m         \u001b[0;32mif\u001b[0m \u001b[0mcapath\u001b[0m \u001b[0;32mis\u001b[0m \u001b[0;32mnot\u001b[0m \u001b[0mNone\u001b[0m\u001b[0;34m:\u001b[0m\u001b[0;34m\u001b[0m\u001b[0m\n\u001b[1;32m    391\u001b[0m             \u001b[0mcapath\u001b[0m \u001b[0;34m=\u001b[0m \u001b[0mcapath\u001b[0m\u001b[0;34m.\u001b[0m\u001b[0mencode\u001b[0m\u001b[0;34m(\u001b[0m\u001b[0;34m'utf-8'\u001b[0m\u001b[0;34m)\u001b[0m\u001b[0;34m\u001b[0m\u001b[0m\n\u001b[0;32m--> 392\u001b[0;31m         \u001b[0mself\u001b[0m\u001b[0;34m.\u001b[0m\u001b[0m_ctx\u001b[0m\u001b[0;34m.\u001b[0m\u001b[0mload_verify_locations\u001b[0m\u001b[0;34m(\u001b[0m\u001b[0mcafile\u001b[0m\u001b[0;34m,\u001b[0m \u001b[0mcapath\u001b[0m\u001b[0;34m)\u001b[0m\u001b[0;34m\u001b[0m\u001b[0m\n\u001b[0m\u001b[1;32m    393\u001b[0m         \u001b[0;32mif\u001b[0m \u001b[0mcadata\u001b[0m \u001b[0;32mis\u001b[0m \u001b[0;32mnot\u001b[0m \u001b[0mNone\u001b[0m\u001b[0;34m:\u001b[0m\u001b[0;34m\u001b[0m\u001b[0m\n\u001b[1;32m    394\u001b[0m             \u001b[0mself\u001b[0m\u001b[0;34m.\u001b[0m\u001b[0m_ctx\u001b[0m\u001b[0;34m.\u001b[0m\u001b[0mload_verify_locations\u001b[0m\u001b[0;34m(\u001b[0m\u001b[0mBytesIO\u001b[0m\u001b[0;34m(\u001b[0m\u001b[0mcadata\u001b[0m\u001b[0;34m)\u001b[0m\u001b[0;34m)\u001b[0m\u001b[0;34m\u001b[0m\u001b[0m\n",
      "\u001b[0;32m/Users/George/anaconda/lib/python2.7/site-packages/OpenSSL/SSL.pyc\u001b[0m in \u001b[0;36mload_verify_locations\u001b[0;34m(self, cafile, capath)\u001b[0m\n\u001b[1;32m    520\u001b[0m \u001b[0;34m\u001b[0m\u001b[0m\n\u001b[1;32m    521\u001b[0m         load_result = _lib.SSL_CTX_load_verify_locations(\n\u001b[0;32m--> 522\u001b[0;31m             \u001b[0mself\u001b[0m\u001b[0;34m.\u001b[0m\u001b[0m_context\u001b[0m\u001b[0;34m,\u001b[0m \u001b[0mcafile\u001b[0m\u001b[0;34m,\u001b[0m \u001b[0mcapath\u001b[0m\u001b[0;34m\u001b[0m\u001b[0m\n\u001b[0m\u001b[1;32m    523\u001b[0m         )\n\u001b[1;32m    524\u001b[0m         \u001b[0;32mif\u001b[0m \u001b[0;32mnot\u001b[0m \u001b[0mload_result\u001b[0m\u001b[0;34m:\u001b[0m\u001b[0;34m\u001b[0m\u001b[0m\n",
      "\u001b[0;31mKeyboardInterrupt\u001b[0m: "
     ]
    }
   ],
   "source": [
    "import requests\n",
    "from bs4 import BeautifulSoup\n",
    "\n",
    "def recursiveUrl(url, link, depth):\n",
    "    if depth == 5:\n",
    "        return url\n",
    "    else:\n",
    "        print(link['href'])\n",
    "        page = requests.get(url + link['href'])\n",
    "        soup = BeautifulSoup(page.text, 'html.parser')\n",
    "        newlink = soup.find('a')\n",
    "        if len(newlink) == 0:\n",
    "            return link\n",
    "        else:\n",
    "            return link, recursiveUrl(url, newlink, depth + 1)\n",
    "\n",
    "def getLinks(url):\n",
    "    page = requests.get(url)\n",
    "    soup = BeautifulSoup(page.text, 'html.parser')\n",
    "    links = soup.find_all('a')\n",
    "    for link in links:\n",
    "        links.append(recursiveUrl(url, link, 0))\n",
    "    return links\n",
    "\n",
    "links = getLinks(\"https://www.mountainproject.com/area/105905173/alabama\")\n",
    "print(links)"
   ]
  },
  {
   "cell_type": "code",
   "execution_count": 154,
   "metadata": {
    "collapsed": false
   },
   "outputs": [
    {
     "data": {
      "text/plain": [
       "[{'link': 'https://www.mountainproject.com/area/105905173/alabama',\n",
       "  'name': 'alabama'},\n",
       " {'link': 'https://www.mountainproject.com/area/105909311/alaska',\n",
       "  'name': 'alaska'}]"
      ]
     },
     "execution_count": 154,
     "metadata": {},
     "output_type": "execute_result"
    }
   ],
   "source": [
    "area_data[0:2]"
   ]
  },
  {
   "cell_type": "code",
   "execution_count": 134,
   "metadata": {
    "collapsed": true
   },
   "outputs": [],
   "source": [
    "test_area_soup = get_beautiful_soup_of_url(sub_area_data[23][\"link\"])"
   ]
  },
  {
   "cell_type": "code",
   "execution_count": 135,
   "metadata": {
    "collapsed": true
   },
   "outputs": [],
   "source": [
    "def get_sub_area_link(left_nav_data):\n",
    "    return str(left_nav_data).split(\"\\n\")[1].split('href=\"')[1].split('\"')[0]\n",
    "\n",
    "def get_sub_area_name(left_nav_data):\n",
    "    return get_sub_area_link(left_nav_data).split(\"/\")[-1]\n",
    "\n",
    "def get_sub_area_dict(left_nav_data):\n",
    "    return {\"name\":get_sub_area_name(left_nav_data), \"link\":get_sub_area_link(left_nav_data)}\n",
    "\n",
    "sub_area_data = [get_sub_area_dict(left_nav_data) for left_nav_data in test_area_soup.find_all(\"div\", {\"class\": \"lef-nav-row\"})]\n",
    "sub_area_data = {v['name']:v for v in sub_area_data}.values()\n",
    "sub_area_data = sorted(sub_area_data, key=itemgetter('name'))"
   ]
  },
  {
   "cell_type": "code",
   "execution_count": 136,
   "metadata": {
    "collapsed": false
   },
   "outputs": [
    {
     "data": {
      "text/plain": [
       "[{'link': 'https://www.mountainproject.com/area/106188003/fireplace-rock',\n",
       "  'name': 'fireplace-rock'},\n",
       " {'link': 'https://www.mountainproject.com/area/106302965/grotto',\n",
       "  'name': 'grotto'},\n",
       " {'link': 'https://www.mountainproject.com/area/105915396/holiday-block',\n",
       "  'name': 'holiday-block'},\n",
       " {'link': 'https://www.mountainproject.com/area/105943761/jaws-blockwest-side-rock',\n",
       "  'name': 'jaws-blockwest-side-rock'},\n",
       " {'link': 'https://www.mountainproject.com/area/108009724/new-wall-aka-kurt-russell-block',\n",
       "  'name': 'new-wall-aka-kurt-russell-block'},\n",
       " {'link': 'https://www.mountainproject.com/area/109645119/redneck-rhino-boulder',\n",
       "  'name': 'redneck-rhino-boulder'},\n",
       " {'link': 'https://www.mountainproject.com/area/105905418/sun-wall',\n",
       "  'name': 'sun-wall'},\n",
       " {'link': 'https://www.mountainproject.com/area/106108723/the-basement',\n",
       "  'name': 'the-basement'},\n",
       " {'link': 'https://www.mountainproject.com/area/105956440/the-flintstone',\n",
       "  'name': 'the-flintstone'},\n",
       " {'link': 'https://www.mountainproject.com/area/106011943/the-hole',\n",
       "  'name': 'the-hole'},\n",
       " {'link': 'https://www.mountainproject.com/area/106635356/the-islands',\n",
       "  'name': 'the-islands'},\n",
       " {'link': 'https://www.mountainproject.com/area/105905193/the-pinnacle',\n",
       "  'name': 'the-pinnacle'},\n",
       " {'link': 'https://www.mountainproject.com/area/106231760/the-sandtrap',\n",
       "  'name': 'the-sandtrap'},\n",
       " {'link': 'https://www.mountainproject.com/area/106119222/turtle-rock',\n",
       "  'name': 'turtle-rock'}]"
      ]
     },
     "execution_count": 136,
     "metadata": {},
     "output_type": "execute_result"
    }
   ],
   "source": [
    "sub_area_data"
   ]
  },
  {
   "cell_type": "code",
   "execution_count": null,
   "metadata": {
    "collapsed": true
   },
   "outputs": [],
   "source": []
  }
 ],
 "metadata": {
  "anaconda-cloud": {},
  "kernelspec": {
   "display_name": "Python [conda root]",
   "language": "python",
   "name": "conda-root-py"
  },
  "language_info": {
   "codemirror_mode": {
    "name": "ipython",
    "version": 2
   },
   "file_extension": ".py",
   "mimetype": "text/x-python",
   "name": "python",
   "nbconvert_exporter": "python",
   "pygments_lexer": "ipython2",
   "version": "2.7.12"
  }
 },
 "nbformat": 4,
 "nbformat_minor": 1
}
